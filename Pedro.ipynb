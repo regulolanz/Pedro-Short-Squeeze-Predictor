{
 "cells": [
  {
   "cell_type": "markdown",
   "id": "d747d1a4-8886-4542-9a9b-7a688ce24204",
   "metadata": {},
   "source": [
    "# Pedro - Short Queeze Predictor\n",
    "---"
   ]
  },
  {
   "cell_type": "markdown",
   "id": "c6b61898-777a-4387-a889-cdf838a3f7ed",
   "metadata": {},
   "source": [
    "### 1. Libraries Import"
   ]
  },
  {
   "cell_type": "code",
   "execution_count": 46,
   "id": "dc6fc2c9-97c4-4fd6-8bd8-2900aa31ee20",
   "metadata": {},
   "outputs": [],
   "source": [
    "import numpy as np\n",
    "import pandas as pd\n",
    "import yfinance as yf\n",
    "from pathlib import Path\n",
    "import pandas_market_calendars as mcal\n",
    "import tensorflow as tf\n",
    "from tensorflow.keras.layers import Dense\n",
    "from tensorflow.keras.models import Sequential\n",
    "from sklearn.model_selection import train_test_split\n",
    "from sklearn.preprocessing import StandardScaler,OneHotEncoder\n",
    "from sklearn.metrics import classification_report, confusion_matrix, balanced_accuracy_score\n",
    "from sklearn.ensemble import RandomForestClassifier\n",
    "from imblearn.over_sampling import SMOTE\n",
    "from imblearn.metrics import classification_report_imbalanced"
   ]
  },
  {
   "cell_type": "markdown",
   "id": "c1f87b9a-5895-41ac-8484-d83d60b3c992",
   "metadata": {},
   "source": [
    "### 2. Data Preparation Constants"
   ]
  },
  {
   "cell_type": "code",
   "execution_count": 4,
   "id": "dc5c0e3a-b298-447d-8f98-e5da85bcb2ed",
   "metadata": {},
   "outputs": [],
   "source": [
    "SHORT_INTEREST_FLOAT_FILTER = 17\n",
    "MARKET_CAP_FILTER = 300000000\n",
    "TOTAL_AMOUNT_FILTER = 1000000\n",
    "DESIRED_DAYS = [1, 2, 5, 7]\n",
    "short_float_filepath = \"Resources/ShortFloat.csv\"\n",
    "insider_trading_filepath = \"Resources/InsiderTrading.csv\""
   ]
  },
  {
   "cell_type": "markdown",
   "id": "f498dce6-bef6-4cc3-b2a8-b26438528f8d",
   "metadata": {},
   "source": [
    "### 3. Data Loading and Preprocessing Function"
   ]
  },
  {
   "cell_type": "code",
   "execution_count": 5,
   "id": "45d8f33b-19df-4275-be14-0fdd94dc6ed9",
   "metadata": {},
   "outputs": [],
   "source": [
    "def load_and_preprocess_data(short_float_filepath, insider_trading_filepath):\n",
    "    \n",
    "    short_df = pd.read_csv(short_float_filepath)\n",
    "    short_df.rename(columns={'ShortSqueeze.com Short Interest Data': 'Company Name'}, inplace=True)\n",
    "    # Dropping irrelevant columns\n",
    "    columns_to_drop = [\n",
    "    'Total Short Interest', 'Days to Cover', 'Performance (52-wk)', 'Short: Prior Mo', '% Change Mo/Mo',\n",
    "    'Shares: Float', 'Avg. Daily Vol.', 'Shares: Outstanding', 'Short Squeeze Ranking™', '% from 52-wk High',\n",
    "    '(abs)', '% from 200 day MA', '(abs).1', '% from 50 day MA', '(abs).2', '% Insider Ownership',\n",
    "    '% Institutional Ownership'\n",
    "    ]\n",
    "    columns_to_drop = [col for col in columns_to_drop if col in short_df.columns]\n",
    "    short_df.drop(columns_to_drop, axis=1, inplace=True)\n",
    "    # Convert 'Short % of Float' and 'Market Cap' to numeric and apply filters\n",
    "    short_df['Short % of Float'] = pd.to_numeric(short_df['Short % of Float'], errors='coerce')\n",
    "    short_df = short_df[short_df['Short % of Float'] >= SHORT_INTEREST_FLOAT_FILTER]\n",
    "    short_df['Market Cap'] = pd.to_numeric(short_df['Market Cap'], errors='coerce')\n",
    "    short_df = short_df[short_df['Market Cap'] >= MARKET_CAP_FILTER]\n",
    "    \n",
    "    insider_df = pd.read_csv(insider_trading_filepath)\n",
    "    insider_df['Total Amount'] = insider_df['Total Amount'].replace({'\\$': '', ',': ''}, regex=True).astype(float)\n",
    "    insider_df['Share Price'] = insider_df['Share Price'].replace({'\\$': '', ',': ''}, regex=True).astype(float)\n",
    "    insider_df['Date'] = pd.to_datetime(insider_df['Date'])\n",
    "    insider_df['Total Amount'] = pd.to_numeric(insider_df['Total Amount'], errors='coerce')\n",
    "    insider_df = insider_df[insider_df['Total Amount'] >= TOTAL_AMOUNT_FILTER]\n",
    "    \n",
    "    return short_df, insider_df"
   ]
  },
  {
   "cell_type": "code",
   "execution_count": 7,
   "id": "b3ec1ac5-7185-4437-b4e9-47b3ff42d15e",
   "metadata": {},
   "outputs": [
    {
     "name": "stderr",
     "output_type": "stream",
     "text": [
      "/var/folders/8b/qhtp32dn1ld9zhxxfhbnshq80000gn/T/ipykernel_70963/1168068969.py:3: DtypeWarning: Columns (2,3,4,5,6,7,8,9,10,11,12,13,14,15,16,17,18,24) have mixed types. Specify dtype option on import or set low_memory=False.\n",
      "  short_df = pd.read_csv(short_float_filepath)\n"
     ]
    }
   ],
   "source": [
    "# Load and preprocess data\n",
    "short_df, insider_df = load_and_preprocess_data(short_float_filepath, insider_trading_filepath)"
   ]
  },
  {
   "cell_type": "markdown",
   "id": "375af6ff-e752-4ab8-9c5e-c9d0af0bbcb2",
   "metadata": {},
   "source": [
    "### 4. Feature Engineering Function"
   ]
  },
  {
   "cell_type": "code",
   "execution_count": 8,
   "id": "a14f546b-0487-4b88-9511-059fa6c58620",
   "metadata": {},
   "outputs": [],
   "source": [
    "def feature_engineering(short_df, insider_df):\n",
    "    date_mapping = {\n",
    "    'JanA': '01-11', 'JanB': '01-25',\n",
    "    'FebA': '02-09', 'FebB': '02-27',\n",
    "    'MarA': '03-09', 'MarB': '03-24',\n",
    "    'AprA': '04-12', 'AprB': '04-25',\n",
    "    'MayA': '05-09', 'MayB': '05-24',\n",
    "    'JunA': '06-09', 'JunB': '06-27',\n",
    "    'JulA': '07-12', 'JulB': '07-25',\n",
    "    'AugA': '08-09', 'AugB': '08-24',\n",
    "    'SepA': '09-12', 'SepB': '09-26',\n",
    "    'OctA': '10-10', 'OctB': '10-24',\n",
    "    'NovA': '11-09', 'NovB': '11-27',\n",
    "    'DecA': '12-11', 'DecB': '12-27',\n",
    "    }\n",
    "    \n",
    "    short_df['Record Date'] = pd.to_datetime(short_df['Record Date'].str.replace(r'(\\d{4})-(\\w+)', lambda m: f'{m.group(1)}-{date_mapping[m.group(2)]}'))\n",
    "    short_df.sort_values('Record Date', inplace=True)\n",
    "    short_df.reset_index(drop=True, inplace=True)\n",
    "    \n",
    "    merged_df = pd.merge(short_df, insider_df, on='Symbol')\n",
    "    merged_df['Share Price'] = merged_df['Share Price'].replace({'\\$': '', ',': ''}, regex=True).astype(float)\n",
    "    merged_df = merged_df[['Symbol', 'Short % of Float', 'Total Amount', 'Record Date', 'Share Price', 'Company Name', 'Sector', 'Industry', 'Date']]\n",
    "    \n",
    "    # Calculate the difference between 'Date' and 'Record Date' for each row\n",
    "    merged_df['Date_diff'] = (merged_df['Date'] - merged_df['Record Date']).dt.days\n",
    "    # Filter out rows where 'Date_diff' is more than 30 and drop unnecessary columns\n",
    "    merged_df = merged_df[merged_df['Date_diff'] >= 0]\n",
    "    merged_df.sort_values(['Symbol', 'Date_diff'], inplace=True)\n",
    "    merged_df.drop_duplicates(subset=['Symbol', 'Date'], keep='first', inplace=True)\n",
    "    merged_df = merged_df[merged_df['Date_diff'] <= 30]\n",
    "    merged_df.drop(columns=['Record Date', 'Date_diff'], inplace=True)\n",
    "\n",
    "    # Reorder columns\n",
    "    new_column_order = ['Symbol', 'Short % of Float', 'Total Amount', 'Date', 'Company Name', 'Sector', 'Industry']\n",
    "    merged_df = merged_df[new_column_order]\n",
    "    \n",
    "    # Create new columns for Close Prices at future dates and calculate Returns.\n",
    "    nyse = mcal.get_calendar('NYSE')\n",
    "    desired_days = DESIRED_DAYS\n",
    "    for day in desired_days:\n",
    "        merged_df[f'Close Price Day {day}'] = np.nan\n",
    "\n",
    "    for idx, row in merged_df.iterrows():\n",
    "        trading_days = nyse.valid_days(start_date=row['Date'], end_date=row['Date'] + pd.DateOffset(days=10))\n",
    "\n",
    "        for day in desired_days:\n",
    "            if day <= len(trading_days):\n",
    "                data = yf.download(row['Symbol'], start=trading_days[day - 1], end=trading_days[day - 1] + pd.DateOffset(days=1))\n",
    "                if not data.empty:  \n",
    "                    merged_df.loc[idx, f'Close Price Day {day}'] = data['Close'][0] \n",
    "    \n",
    "    # Calculate Returns and Highest Day Return\n",
    "    for day in DESIRED_DAYS: \n",
    "        merged_df[f'Return ({day} Days)'] = ((merged_df[f'Close Price Day {day}'] - merged_df['Close Price Day 1']) / merged_df['Close Price Day 1']) * 100\n",
    "        \n",
    "    merged_df['Highest Day Return'] = merged_df[[f'Return ({day} Days)' for day in [5, 7]]].max(axis=1)\n",
    "    merged_df['Highest Close Price'] = merged_df[[f'Close Price Day {day}' for day in desired_days]].max(axis=1)\n",
    "\n",
    "    for col in merged_df.columns:\n",
    "        if 'Close Price' in col or 'Return' in col:\n",
    "            merged_df[col] = merged_df[col].round(2)\n",
    "\n",
    "    merged_df.dropna(inplace=True)\n",
    "    merged_df.reset_index(drop=True, inplace=True)\n",
    "    \n",
    "    merged_df['Short Squeeze'] = 0\n",
    "    merged_df.loc[merged_df['Highest Day Return'] >= 20, 'Short Squeeze'] = 1\n",
    "    merged_df.loc[merged_df['Highest Day Return'] < 20, 'Short Squeeze'] = 0\n",
    "\n",
    "    return merged_df"
   ]
  },
  {
   "cell_type": "code",
   "execution_count": 9,
   "id": "518804e0-ef6f-41d9-a7d9-b1951cd362d5",
   "metadata": {},
   "outputs": [
    {
     "name": "stderr",
     "output_type": "stream",
     "text": [
      "/var/folders/8b/qhtp32dn1ld9zhxxfhbnshq80000gn/T/ipykernel_70963/793588433.py:17: FutureWarning: The default value of regex will change from True to False in a future version.\n",
      "  short_df['Record Date'] = pd.to_datetime(short_df['Record Date'].str.replace(r'(\\d{4})-(\\w+)', lambda m: f'{m.group(1)}-{date_mapping[m.group(2)]}'))\n"
     ]
    },
    {
     "name": "stdout",
     "output_type": "stream",
     "text": [
      "[*********************100%***********************]  1 of 1 completed\n",
      "[*********************100%***********************]  1 of 1 completed\n",
      "[*********************100%***********************]  1 of 1 completed\n",
      "[*********************100%***********************]  1 of 1 completed\n",
      "[*********************100%***********************]  1 of 1 completed\n",
      "[*********************100%***********************]  1 of 1 completed\n",
      "[*********************100%***********************]  1 of 1 completed\n",
      "[*********************100%***********************]  1 of 1 completed\n",
      "[*********************100%***********************]  1 of 1 completed\n",
      "[*********************100%***********************]  1 of 1 completed\n",
      "[*********************100%***********************]  1 of 1 completed\n",
      "[*********************100%***********************]  1 of 1 completed\n",
      "[*********************100%***********************]  1 of 1 completed\n",
      "[*********************100%***********************]  1 of 1 completed\n",
      "[*********************100%***********************]  1 of 1 completed\n",
      "[*********************100%***********************]  1 of 1 completed\n",
      "[*********************100%***********************]  1 of 1 completed\n",
      "[*********************100%***********************]  1 of 1 completed\n",
      "[*********************100%***********************]  1 of 1 completed\n",
      "[*********************100%***********************]  1 of 1 completed\n",
      "[*********************100%***********************]  1 of 1 completed\n",
      "[*********************100%***********************]  1 of 1 completed\n",
      "[*********************100%***********************]  1 of 1 completed\n",
      "[*********************100%***********************]  1 of 1 completed\n",
      "[*********************100%***********************]  1 of 1 completed\n",
      "[*********************100%***********************]  1 of 1 completed\n",
      "[*********************100%***********************]  1 of 1 completed\n",
      "[*********************100%***********************]  1 of 1 completed\n",
      "[*********************100%***********************]  1 of 1 completed\n",
      "[*********************100%***********************]  1 of 1 completed\n",
      "[*********************100%***********************]  1 of 1 completed\n",
      "[*********************100%***********************]  1 of 1 completed\n",
      "[*********************100%***********************]  1 of 1 completed\n",
      "[*********************100%***********************]  1 of 1 completed\n",
      "[*********************100%***********************]  1 of 1 completed\n",
      "[*********************100%***********************]  1 of 1 completed\n",
      "[*********************100%***********************]  1 of 1 completed\n",
      "[*********************100%***********************]  1 of 1 completed\n",
      "[*********************100%***********************]  1 of 1 completed\n",
      "[*********************100%***********************]  1 of 1 completed\n",
      "[*********************100%***********************]  1 of 1 completed\n",
      "[*********************100%***********************]  1 of 1 completed\n",
      "[*********************100%***********************]  1 of 1 completed\n",
      "[*********************100%***********************]  1 of 1 completed\n",
      "[*********************100%***********************]  1 of 1 completed\n",
      "[*********************100%***********************]  1 of 1 completed\n",
      "[*********************100%***********************]  1 of 1 completed\n",
      "[*********************100%***********************]  1 of 1 completed\n",
      "[*********************100%***********************]  1 of 1 completed\n",
      "[*********************100%***********************]  1 of 1 completed\n",
      "[*********************100%***********************]  1 of 1 completed\n",
      "[*********************100%***********************]  1 of 1 completed\n",
      "[*********************100%***********************]  1 of 1 completed\n",
      "[*********************100%***********************]  1 of 1 completed\n",
      "[*********************100%***********************]  1 of 1 completed\n",
      "[*********************100%***********************]  1 of 1 completed\n",
      "[*********************100%***********************]  1 of 1 completed\n",
      "[*********************100%***********************]  1 of 1 completed\n",
      "[*********************100%***********************]  1 of 1 completed\n",
      "[*********************100%***********************]  1 of 1 completed\n",
      "[*********************100%***********************]  1 of 1 completed\n",
      "[*********************100%***********************]  1 of 1 completed\n",
      "[*********************100%***********************]  1 of 1 completed\n",
      "[*********************100%***********************]  1 of 1 completed\n",
      "[*********************100%***********************]  1 of 1 completed\n",
      "[*********************100%***********************]  1 of 1 completed\n",
      "[*********************100%***********************]  1 of 1 completed\n",
      "[*********************100%***********************]  1 of 1 completed\n",
      "[*********************100%***********************]  1 of 1 completed\n",
      "[*********************100%***********************]  1 of 1 completed\n",
      "[*********************100%***********************]  1 of 1 completed\n",
      "[*********************100%***********************]  1 of 1 completed\n",
      "[*********************100%***********************]  1 of 1 completed\n",
      "[*********************100%***********************]  1 of 1 completed\n",
      "[*********************100%***********************]  1 of 1 completed\n",
      "[*********************100%***********************]  1 of 1 completed\n",
      "[*********************100%***********************]  1 of 1 completed\n",
      "[*********************100%***********************]  1 of 1 completed\n",
      "[*********************100%***********************]  1 of 1 completed\n",
      "[*********************100%***********************]  1 of 1 completed\n",
      "[*********************100%***********************]  1 of 1 completed\n",
      "[*********************100%***********************]  1 of 1 completed\n",
      "[*********************100%***********************]  1 of 1 completed\n",
      "[*********************100%***********************]  1 of 1 completed\n",
      "[*********************100%***********************]  1 of 1 completed\n",
      "[*********************100%***********************]  1 of 1 completed\n",
      "[*********************100%***********************]  1 of 1 completed\n",
      "[*********************100%***********************]  1 of 1 completed\n",
      "[*********************100%***********************]  1 of 1 completed\n",
      "[*********************100%***********************]  1 of 1 completed\n",
      "[*********************100%***********************]  1 of 1 completed\n",
      "[*********************100%***********************]  1 of 1 completed\n",
      "[*********************100%***********************]  1 of 1 completed\n",
      "[*********************100%***********************]  1 of 1 completed\n",
      "[*********************100%***********************]  1 of 1 completed\n",
      "[*********************100%***********************]  1 of 1 completed\n",
      "[*********************100%***********************]  1 of 1 completed\n",
      "[*********************100%***********************]  1 of 1 completed\n",
      "[*********************100%***********************]  1 of 1 completed\n",
      "[*********************100%***********************]  1 of 1 completed\n",
      "[*********************100%***********************]  1 of 1 completed\n",
      "[*********************100%***********************]  1 of 1 completed\n",
      "[*********************100%***********************]  1 of 1 completed\n",
      "[*********************100%***********************]  1 of 1 completed\n",
      "[*********************100%***********************]  1 of 1 completed\n",
      "[*********************100%***********************]  1 of 1 completed\n",
      "[*********************100%***********************]  1 of 1 completed\n",
      "[*********************100%***********************]  1 of 1 completed\n",
      "[*********************100%***********************]  1 of 1 completed\n",
      "[*********************100%***********************]  1 of 1 completed\n",
      "[*********************100%***********************]  1 of 1 completed\n",
      "[*********************100%***********************]  1 of 1 completed\n",
      "[*********************100%***********************]  1 of 1 completed\n",
      "[*********************100%***********************]  1 of 1 completed\n",
      "[*********************100%***********************]  1 of 1 completed\n",
      "[*********************100%***********************]  1 of 1 completed\n",
      "[*********************100%***********************]  1 of 1 completed\n",
      "[*********************100%***********************]  1 of 1 completed\n",
      "[*********************100%***********************]  1 of 1 completed\n",
      "[*********************100%***********************]  1 of 1 completed\n",
      "[*********************100%***********************]  1 of 1 completed\n",
      "[*********************100%***********************]  1 of 1 completed\n",
      "[*********************100%***********************]  1 of 1 completed\n",
      "[*********************100%***********************]  1 of 1 completed\n",
      "[*********************100%***********************]  1 of 1 completed\n",
      "[*********************100%***********************]  1 of 1 completed\n",
      "[*********************100%***********************]  1 of 1 completed\n",
      "[*********************100%***********************]  1 of 1 completed\n",
      "[*********************100%***********************]  1 of 1 completed\n",
      "[*********************100%***********************]  1 of 1 completed\n",
      "[*********************100%***********************]  1 of 1 completed\n",
      "[*********************100%***********************]  1 of 1 completed\n",
      "[*********************100%***********************]  1 of 1 completed\n",
      "[*********************100%***********************]  1 of 1 completed\n",
      "[*********************100%***********************]  1 of 1 completed\n",
      "[*********************100%***********************]  1 of 1 completed\n",
      "[*********************100%***********************]  1 of 1 completed\n",
      "[*********************100%***********************]  1 of 1 completed\n",
      "[*********************100%***********************]  1 of 1 completed\n",
      "[*********************100%***********************]  1 of 1 completed\n",
      "[*********************100%***********************]  1 of 1 completed\n",
      "[*********************100%***********************]  1 of 1 completed\n",
      "[*********************100%***********************]  1 of 1 completed\n",
      "[*********************100%***********************]  1 of 1 completed\n",
      "[*********************100%***********************]  1 of 1 completed\n",
      "[*********************100%***********************]  1 of 1 completed\n",
      "[*********************100%***********************]  1 of 1 completed\n",
      "[*********************100%***********************]  1 of 1 completed\n",
      "[*********************100%***********************]  1 of 1 completed\n",
      "[*********************100%***********************]  1 of 1 completed\n",
      "[*********************100%***********************]  1 of 1 completed\n",
      "[*********************100%***********************]  1 of 1 completed\n",
      "[*********************100%***********************]  1 of 1 completed\n",
      "[*********************100%***********************]  1 of 1 completed\n",
      "[*********************100%***********************]  1 of 1 completed\n",
      "[*********************100%***********************]  1 of 1 completed\n",
      "[*********************100%***********************]  1 of 1 completed\n",
      "[*********************100%***********************]  1 of 1 completed\n",
      "[*********************100%***********************]  1 of 1 completed\n",
      "[*********************100%***********************]  1 of 1 completed\n",
      "[*********************100%***********************]  1 of 1 completed\n",
      "[*********************100%***********************]  1 of 1 completed\n",
      "[*********************100%***********************]  1 of 1 completed\n",
      "[*********************100%***********************]  1 of 1 completed\n",
      "[*********************100%***********************]  1 of 1 completed\n",
      "[*********************100%***********************]  1 of 1 completed\n",
      "[*********************100%***********************]  1 of 1 completed\n",
      "[*********************100%***********************]  1 of 1 completed\n",
      "[*********************100%***********************]  1 of 1 completed\n",
      "[*********************100%***********************]  1 of 1 completed\n",
      "[*********************100%***********************]  1 of 1 completed\n",
      "[*********************100%***********************]  1 of 1 completed\n",
      "[*********************100%***********************]  1 of 1 completed\n",
      "[*********************100%***********************]  1 of 1 completed\n",
      "[*********************100%***********************]  1 of 1 completed\n",
      "[*********************100%***********************]  1 of 1 completed\n",
      "[*********************100%***********************]  1 of 1 completed\n",
      "[*********************100%***********************]  1 of 1 completed\n",
      "[*********************100%***********************]  1 of 1 completed\n",
      "[*********************100%***********************]  1 of 1 completed\n",
      "[*********************100%***********************]  1 of 1 completed\n",
      "[*********************100%***********************]  1 of 1 completed\n",
      "[*********************100%***********************]  1 of 1 completed"
     ]
    },
    {
     "name": "stderr",
     "output_type": "stream",
     "text": [
      "\n",
      "1 Failed download:\n",
      "['MYOV']: Exception('%ticker%: No timezone found, symbol may be delisted')\n"
     ]
    },
    {
     "name": "stdout",
     "output_type": "stream",
     "text": [
      "\n",
      "[*********************100%***********************]  1 of 1 completed"
     ]
    },
    {
     "name": "stderr",
     "output_type": "stream",
     "text": [
      "\n",
      "1 Failed download:\n",
      "['MYOV']: Exception('%ticker%: No timezone found, symbol may be delisted')\n"
     ]
    },
    {
     "name": "stdout",
     "output_type": "stream",
     "text": [
      "\n",
      "[*********************100%***********************]  1 of 1 completed"
     ]
    },
    {
     "name": "stderr",
     "output_type": "stream",
     "text": [
      "\n",
      "1 Failed download:\n",
      "['MYOV']: Exception('%ticker%: No timezone found, symbol may be delisted')\n"
     ]
    },
    {
     "name": "stdout",
     "output_type": "stream",
     "text": [
      "\n",
      "[*********************100%***********************]  1 of 1 completed"
     ]
    },
    {
     "name": "stderr",
     "output_type": "stream",
     "text": [
      "\n",
      "1 Failed download:\n",
      "['MYOV']: Exception('%ticker%: No timezone found, symbol may be delisted')\n"
     ]
    },
    {
     "name": "stdout",
     "output_type": "stream",
     "text": [
      "\n",
      "[*********************100%***********************]  1 of 1 completed\n",
      "[*********************100%***********************]  1 of 1 completed\n",
      "[*********************100%***********************]  1 of 1 completed\n",
      "[*********************100%***********************]  1 of 1 completed\n",
      "[*********************100%***********************]  1 of 1 completed\n",
      "[*********************100%***********************]  1 of 1 completed\n",
      "[*********************100%***********************]  1 of 1 completed\n",
      "[*********************100%***********************]  1 of 1 completed\n",
      "[*********************100%***********************]  1 of 1 completed\n",
      "[*********************100%***********************]  1 of 1 completed\n",
      "[*********************100%***********************]  1 of 1 completed\n",
      "[*********************100%***********************]  1 of 1 completed\n",
      "[*********************100%***********************]  1 of 1 completed\n",
      "[*********************100%***********************]  1 of 1 completed\n",
      "[*********************100%***********************]  1 of 1 completed\n",
      "[*********************100%***********************]  1 of 1 completed\n",
      "[*********************100%***********************]  1 of 1 completed\n",
      "[*********************100%***********************]  1 of 1 completed\n",
      "[*********************100%***********************]  1 of 1 completed\n",
      "[*********************100%***********************]  1 of 1 completed\n",
      "[*********************100%***********************]  1 of 1 completed\n",
      "[*********************100%***********************]  1 of 1 completed\n",
      "[*********************100%***********************]  1 of 1 completed\n",
      "[*********************100%***********************]  1 of 1 completed\n",
      "[*********************100%***********************]  1 of 1 completed\n",
      "[*********************100%***********************]  1 of 1 completed\n",
      "[*********************100%***********************]  1 of 1 completed\n",
      "[*********************100%***********************]  1 of 1 completed\n",
      "[*********************100%***********************]  1 of 1 completed\n",
      "[*********************100%***********************]  1 of 1 completed\n",
      "[*********************100%***********************]  1 of 1 completed\n",
      "[*********************100%***********************]  1 of 1 completed\n",
      "[*********************100%***********************]  1 of 1 completed\n",
      "[*********************100%***********************]  1 of 1 completed\n",
      "[*********************100%***********************]  1 of 1 completed\n",
      "[*********************100%***********************]  1 of 1 completed\n",
      "[*********************100%***********************]  1 of 1 completed\n",
      "[*********************100%***********************]  1 of 1 completed\n",
      "[*********************100%***********************]  1 of 1 completed\n",
      "[*********************100%***********************]  1 of 1 completed\n",
      "[*********************100%***********************]  1 of 1 completed\n",
      "[*********************100%***********************]  1 of 1 completed\n",
      "[*********************100%***********************]  1 of 1 completed\n",
      "[*********************100%***********************]  1 of 1 completed\n",
      "[*********************100%***********************]  1 of 1 completed\n",
      "[*********************100%***********************]  1 of 1 completed\n",
      "[*********************100%***********************]  1 of 1 completed\n",
      "[*********************100%***********************]  1 of 1 completed\n",
      "[*********************100%***********************]  1 of 1 completed\n",
      "[*********************100%***********************]  1 of 1 completed\n",
      "[*********************100%***********************]  1 of 1 completed\n",
      "[*********************100%***********************]  1 of 1 completed\n",
      "[*********************100%***********************]  1 of 1 completed\n",
      "[*********************100%***********************]  1 of 1 completed\n",
      "[*********************100%***********************]  1 of 1 completed\n",
      "[*********************100%***********************]  1 of 1 completed\n",
      "[*********************100%***********************]  1 of 1 completed\n",
      "[*********************100%***********************]  1 of 1 completed\n",
      "[*********************100%***********************]  1 of 1 completed\n",
      "[*********************100%***********************]  1 of 1 completed\n",
      "[*********************100%***********************]  1 of 1 completed\n",
      "[*********************100%***********************]  1 of 1 completed\n",
      "[*********************100%***********************]  1 of 1 completed\n",
      "[*********************100%***********************]  1 of 1 completed\n",
      "[*********************100%***********************]  1 of 1 completed\n",
      "[*********************100%***********************]  1 of 1 completed\n",
      "[*********************100%***********************]  1 of 1 completed\n",
      "[*********************100%***********************]  1 of 1 completed\n",
      "[*********************100%***********************]  1 of 1 completed\n",
      "[*********************100%***********************]  1 of 1 completed\n",
      "[*********************100%***********************]  1 of 1 completed\n",
      "[*********************100%***********************]  1 of 1 completed\n",
      "[*********************100%***********************]  1 of 1 completed\n",
      "[*********************100%***********************]  1 of 1 completed\n",
      "[*********************100%***********************]  1 of 1 completed\n",
      "[*********************100%***********************]  1 of 1 completed\n",
      "[*********************100%***********************]  1 of 1 completed\n",
      "[*********************100%***********************]  1 of 1 completed\n",
      "[*********************100%***********************]  1 of 1 completed\n",
      "[*********************100%***********************]  1 of 1 completed\n",
      "[*********************100%***********************]  1 of 1 completed\n",
      "[*********************100%***********************]  1 of 1 completed\n",
      "[*********************100%***********************]  1 of 1 completed\n",
      "[*********************100%***********************]  1 of 1 completed\n",
      "[*********************100%***********************]  1 of 1 completed\n",
      "[*********************100%***********************]  1 of 1 completed\n",
      "[*********************100%***********************]  1 of 1 completed\n",
      "[*********************100%***********************]  1 of 1 completed\n",
      "[*********************100%***********************]  1 of 1 completed\n",
      "[*********************100%***********************]  1 of 1 completed\n",
      "[*********************100%***********************]  1 of 1 completed\n",
      "[*********************100%***********************]  1 of 1 completed\n",
      "[*********************100%***********************]  1 of 1 completed\n",
      "[*********************100%***********************]  1 of 1 completed\n",
      "[*********************100%***********************]  1 of 1 completed\n",
      "[*********************100%***********************]  1 of 1 completed"
     ]
    },
    {
     "name": "stderr",
     "output_type": "stream",
     "text": [
      "\n",
      "1 Failed download:\n",
      "['TCDA']: Exception('%ticker%: No timezone found, symbol may be delisted')\n"
     ]
    },
    {
     "name": "stdout",
     "output_type": "stream",
     "text": [
      "\n",
      "[*********************100%***********************]  1 of 1 completed"
     ]
    },
    {
     "name": "stderr",
     "output_type": "stream",
     "text": [
      "\n",
      "1 Failed download:\n",
      "['TCDA']: Exception('%ticker%: No timezone found, symbol may be delisted')\n"
     ]
    },
    {
     "name": "stdout",
     "output_type": "stream",
     "text": [
      "\n",
      "[*********************100%***********************]  1 of 1 completed"
     ]
    },
    {
     "name": "stderr",
     "output_type": "stream",
     "text": [
      "\n",
      "1 Failed download:\n",
      "['TCDA']: Exception('%ticker%: No timezone found, symbol may be delisted')\n"
     ]
    },
    {
     "name": "stdout",
     "output_type": "stream",
     "text": [
      "\n",
      "[*********************100%***********************]  1 of 1 completed"
     ]
    },
    {
     "name": "stderr",
     "output_type": "stream",
     "text": [
      "\n",
      "1 Failed download:\n",
      "['TCDA']: Exception('%ticker%: No timezone found, symbol may be delisted')\n"
     ]
    },
    {
     "name": "stdout",
     "output_type": "stream",
     "text": [
      "\n",
      "[*********************100%***********************]  1 of 1 completed"
     ]
    },
    {
     "name": "stderr",
     "output_type": "stream",
     "text": [
      "\n",
      "1 Failed download:\n",
      "['TCDA']: Exception('%ticker%: No timezone found, symbol may be delisted')\n"
     ]
    },
    {
     "name": "stdout",
     "output_type": "stream",
     "text": [
      "\n",
      "[*********************100%***********************]  1 of 1 completed"
     ]
    },
    {
     "name": "stderr",
     "output_type": "stream",
     "text": [
      "\n",
      "1 Failed download:\n",
      "['TCDA']: Exception('%ticker%: No timezone found, symbol may be delisted')\n"
     ]
    },
    {
     "name": "stdout",
     "output_type": "stream",
     "text": [
      "\n",
      "[*********************100%***********************]  1 of 1 completed"
     ]
    },
    {
     "name": "stderr",
     "output_type": "stream",
     "text": [
      "\n",
      "1 Failed download:\n",
      "['TCDA']: Exception('%ticker%: No timezone found, symbol may be delisted')\n"
     ]
    },
    {
     "name": "stdout",
     "output_type": "stream",
     "text": [
      "\n",
      "[*********************100%***********************]  1 of 1 completed"
     ]
    },
    {
     "name": "stderr",
     "output_type": "stream",
     "text": [
      "\n",
      "1 Failed download:\n",
      "['TCDA']: Exception('%ticker%: No timezone found, symbol may be delisted')\n"
     ]
    },
    {
     "name": "stdout",
     "output_type": "stream",
     "text": [
      "\n",
      "[*********************100%***********************]  1 of 1 completed"
     ]
    },
    {
     "name": "stderr",
     "output_type": "stream",
     "text": [
      "\n",
      "1 Failed download:\n",
      "['TCDA']: Exception('%ticker%: No timezone found, symbol may be delisted')\n"
     ]
    },
    {
     "name": "stdout",
     "output_type": "stream",
     "text": [
      "\n",
      "[*********************100%***********************]  1 of 1 completed"
     ]
    },
    {
     "name": "stderr",
     "output_type": "stream",
     "text": [
      "\n",
      "1 Failed download:\n",
      "['TCDA']: Exception('%ticker%: No timezone found, symbol may be delisted')\n"
     ]
    },
    {
     "name": "stdout",
     "output_type": "stream",
     "text": [
      "\n",
      "[*********************100%***********************]  1 of 1 completed"
     ]
    },
    {
     "name": "stderr",
     "output_type": "stream",
     "text": [
      "\n",
      "1 Failed download:\n",
      "['TCDA']: Exception('%ticker%: No timezone found, symbol may be delisted')\n"
     ]
    },
    {
     "name": "stdout",
     "output_type": "stream",
     "text": [
      "\n",
      "[*********************100%***********************]  1 of 1 completed"
     ]
    },
    {
     "name": "stderr",
     "output_type": "stream",
     "text": [
      "\n",
      "1 Failed download:\n",
      "['TCDA']: Exception('%ticker%: No timezone found, symbol may be delisted')\n"
     ]
    },
    {
     "name": "stdout",
     "output_type": "stream",
     "text": [
      "\n",
      "[*********************100%***********************]  1 of 1 completed"
     ]
    },
    {
     "name": "stderr",
     "output_type": "stream",
     "text": [
      "\n",
      "1 Failed download:\n",
      "['TCDA']: Exception('%ticker%: No timezone found, symbol may be delisted')\n"
     ]
    },
    {
     "name": "stdout",
     "output_type": "stream",
     "text": [
      "\n",
      "[*********************100%***********************]  1 of 1 completed"
     ]
    },
    {
     "name": "stderr",
     "output_type": "stream",
     "text": [
      "\n",
      "1 Failed download:\n",
      "['TCDA']: Exception('%ticker%: No timezone found, symbol may be delisted')\n"
     ]
    },
    {
     "name": "stdout",
     "output_type": "stream",
     "text": [
      "\n",
      "[*********************100%***********************]  1 of 1 completed"
     ]
    },
    {
     "name": "stderr",
     "output_type": "stream",
     "text": [
      "\n",
      "1 Failed download:\n",
      "['TCDA']: Exception('%ticker%: No timezone found, symbol may be delisted')\n"
     ]
    },
    {
     "name": "stdout",
     "output_type": "stream",
     "text": [
      "\n",
      "[*********************100%***********************]  1 of 1 completed"
     ]
    },
    {
     "name": "stderr",
     "output_type": "stream",
     "text": [
      "\n",
      "1 Failed download:\n",
      "['TCDA']: Exception('%ticker%: No timezone found, symbol may be delisted')\n"
     ]
    },
    {
     "name": "stdout",
     "output_type": "stream",
     "text": [
      "\n",
      "[*********************100%***********************]  1 of 1 completed"
     ]
    },
    {
     "name": "stderr",
     "output_type": "stream",
     "text": [
      "\n",
      "1 Failed download:\n",
      "['TCDA']: Exception('%ticker%: No timezone found, symbol may be delisted')\n"
     ]
    },
    {
     "name": "stdout",
     "output_type": "stream",
     "text": [
      "\n",
      "[*********************100%***********************]  1 of 1 completed"
     ]
    },
    {
     "name": "stderr",
     "output_type": "stream",
     "text": [
      "\n",
      "1 Failed download:\n",
      "['TCDA']: Exception('%ticker%: No timezone found, symbol may be delisted')\n"
     ]
    },
    {
     "name": "stdout",
     "output_type": "stream",
     "text": [
      "\n",
      "[*********************100%***********************]  1 of 1 completed"
     ]
    },
    {
     "name": "stderr",
     "output_type": "stream",
     "text": [
      "\n",
      "1 Failed download:\n",
      "['TCDA']: Exception('%ticker%: No timezone found, symbol may be delisted')\n"
     ]
    },
    {
     "name": "stdout",
     "output_type": "stream",
     "text": [
      "\n",
      "[*********************100%***********************]  1 of 1 completed"
     ]
    },
    {
     "name": "stderr",
     "output_type": "stream",
     "text": [
      "\n",
      "1 Failed download:\n",
      "['TCDA']: Exception('%ticker%: No timezone found, symbol may be delisted')\n"
     ]
    },
    {
     "name": "stdout",
     "output_type": "stream",
     "text": [
      "\n",
      "[*********************100%***********************]  1 of 1 completed"
     ]
    },
    {
     "name": "stderr",
     "output_type": "stream",
     "text": [
      "\n",
      "1 Failed download:\n",
      "['TCDA']: Exception('%ticker%: No timezone found, symbol may be delisted')\n"
     ]
    },
    {
     "name": "stdout",
     "output_type": "stream",
     "text": [
      "\n",
      "[*********************100%***********************]  1 of 1 completed"
     ]
    },
    {
     "name": "stderr",
     "output_type": "stream",
     "text": [
      "\n",
      "1 Failed download:\n",
      "['TCDA']: Exception('%ticker%: No timezone found, symbol may be delisted')\n"
     ]
    },
    {
     "name": "stdout",
     "output_type": "stream",
     "text": [
      "\n",
      "[*********************100%***********************]  1 of 1 completed"
     ]
    },
    {
     "name": "stderr",
     "output_type": "stream",
     "text": [
      "\n",
      "1 Failed download:\n",
      "['TCDA']: Exception('%ticker%: No timezone found, symbol may be delisted')\n"
     ]
    },
    {
     "name": "stdout",
     "output_type": "stream",
     "text": [
      "\n",
      "[*********************100%***********************]  1 of 1 completed"
     ]
    },
    {
     "name": "stderr",
     "output_type": "stream",
     "text": [
      "\n",
      "1 Failed download:\n",
      "['TCDA']: Exception('%ticker%: No timezone found, symbol may be delisted')\n"
     ]
    },
    {
     "name": "stdout",
     "output_type": "stream",
     "text": [
      "\n",
      "[*********************100%***********************]  1 of 1 completed"
     ]
    },
    {
     "name": "stderr",
     "output_type": "stream",
     "text": [
      "\n",
      "1 Failed download:\n",
      "['TCDA']: Exception('%ticker%: No timezone found, symbol may be delisted')\n"
     ]
    },
    {
     "name": "stdout",
     "output_type": "stream",
     "text": [
      "\n",
      "[*********************100%***********************]  1 of 1 completed"
     ]
    },
    {
     "name": "stderr",
     "output_type": "stream",
     "text": [
      "\n",
      "1 Failed download:\n",
      "['TCDA']: Exception('%ticker%: No timezone found, symbol may be delisted')\n"
     ]
    },
    {
     "name": "stdout",
     "output_type": "stream",
     "text": [
      "\n",
      "[*********************100%***********************]  1 of 1 completed"
     ]
    },
    {
     "name": "stderr",
     "output_type": "stream",
     "text": [
      "\n",
      "1 Failed download:\n",
      "['TCDA']: Exception('%ticker%: No timezone found, symbol may be delisted')\n"
     ]
    },
    {
     "name": "stdout",
     "output_type": "stream",
     "text": [
      "\n",
      "[*********************100%***********************]  1 of 1 completed"
     ]
    },
    {
     "name": "stderr",
     "output_type": "stream",
     "text": [
      "\n",
      "1 Failed download:\n",
      "['TCDA']: Exception('%ticker%: No timezone found, symbol may be delisted')\n"
     ]
    },
    {
     "name": "stdout",
     "output_type": "stream",
     "text": [
      "\n",
      "[*********************100%***********************]  1 of 1 completed"
     ]
    },
    {
     "name": "stderr",
     "output_type": "stream",
     "text": [
      "\n",
      "1 Failed download:\n",
      "['TCDA']: Exception('%ticker%: No timezone found, symbol may be delisted')\n"
     ]
    },
    {
     "name": "stdout",
     "output_type": "stream",
     "text": [
      "\n",
      "[*********************100%***********************]  1 of 1 completed"
     ]
    },
    {
     "name": "stderr",
     "output_type": "stream",
     "text": [
      "\n",
      "1 Failed download:\n",
      "['TCDA']: Exception('%ticker%: No timezone found, symbol may be delisted')\n"
     ]
    },
    {
     "name": "stdout",
     "output_type": "stream",
     "text": [
      "\n",
      "[*********************100%***********************]  1 of 1 completed"
     ]
    },
    {
     "name": "stderr",
     "output_type": "stream",
     "text": [
      "\n",
      "1 Failed download:\n",
      "['TCDA']: Exception('%ticker%: No timezone found, symbol may be delisted')\n"
     ]
    },
    {
     "name": "stdout",
     "output_type": "stream",
     "text": [
      "\n",
      "[*********************100%***********************]  1 of 1 completed"
     ]
    },
    {
     "name": "stderr",
     "output_type": "stream",
     "text": [
      "\n",
      "1 Failed download:\n",
      "['TCDA']: Exception('%ticker%: No timezone found, symbol may be delisted')\n"
     ]
    },
    {
     "name": "stdout",
     "output_type": "stream",
     "text": [
      "\n",
      "[*********************100%***********************]  1 of 1 completed"
     ]
    },
    {
     "name": "stderr",
     "output_type": "stream",
     "text": [
      "\n",
      "1 Failed download:\n"
     ]
    },
    {
     "name": "stdout",
     "output_type": "stream",
     "text": [
      "\n"
     ]
    },
    {
     "name": "stderr",
     "output_type": "stream",
     "text": [
      "['TCDA']: Exception('%ticker%: No timezone found, symbol may be delisted')\n"
     ]
    },
    {
     "name": "stdout",
     "output_type": "stream",
     "text": [
      "[*********************100%***********************]  1 of 1 completed"
     ]
    },
    {
     "name": "stderr",
     "output_type": "stream",
     "text": [
      "\n",
      "1 Failed download:\n",
      "['TCDA']: Exception('%ticker%: No timezone found, symbol may be delisted')\n"
     ]
    },
    {
     "name": "stdout",
     "output_type": "stream",
     "text": [
      "\n",
      "[*********************100%***********************]  1 of 1 completed"
     ]
    },
    {
     "name": "stderr",
     "output_type": "stream",
     "text": [
      "\n",
      "1 Failed download:\n",
      "['TCDA']: Exception('%ticker%: No timezone found, symbol may be delisted')\n"
     ]
    },
    {
     "name": "stdout",
     "output_type": "stream",
     "text": [
      "\n",
      "[*********************100%***********************]  1 of 1 completed"
     ]
    },
    {
     "name": "stderr",
     "output_type": "stream",
     "text": [
      "\n",
      "1 Failed download:\n",
      "['TCDA']: Exception('%ticker%: No timezone found, symbol may be delisted')\n"
     ]
    },
    {
     "name": "stdout",
     "output_type": "stream",
     "text": [
      "\n",
      "[*********************100%***********************]  1 of 1 completed\n",
      "[*********************100%***********************]  1 of 1 completed\n",
      "[*********************100%***********************]  1 of 1 completed\n",
      "[*********************100%***********************]  1 of 1 completed\n",
      "[*********************100%***********************]  1 of 1 completed\n",
      "[*********************100%***********************]  1 of 1 completed\n",
      "[*********************100%***********************]  1 of 1 completed\n",
      "[*********************100%***********************]  1 of 1 completed\n",
      "[*********************100%***********************]  1 of 1 completed\n",
      "[*********************100%***********************]  1 of 1 completed\n",
      "[*********************100%***********************]  1 of 1 completed\n",
      "[*********************100%***********************]  1 of 1 completed\n"
     ]
    }
   ],
   "source": [
    "# Feature engineering\n",
    "merged_df = feature_engineering(short_df, insider_df)"
   ]
  },
  {
   "cell_type": "markdown",
   "id": "a70ee5d7-336c-4eac-883a-cfb9264e395e",
   "metadata": {},
   "source": [
    "### 5. One Hot Encoding"
   ]
  },
  {
   "cell_type": "code",
   "execution_count": 12,
   "id": "90ffbefb-b2d0-4945-ac33-8ed06d5430e0",
   "metadata": {},
   "outputs": [],
   "source": [
    "def one_hot_encode(df):\n",
    "    encoder = OneHotEncoder(sparse=False)\n",
    "    categorical_variables = ['Company Name', 'Sector', 'Industry']\n",
    "    encoded_df = pd.DataFrame(encoder.fit_transform(df[categorical_variables]))\n",
    "    encoded_df.columns = encoder.get_feature_names_out(categorical_variables)\n",
    "    numerical_df = df.drop(columns=categorical_variables, axis=1)\n",
    "    return pd.concat([numerical_df, encoded_df], axis=1)"
   ]
  },
  {
   "cell_type": "code",
   "execution_count": 13,
   "id": "6244d34b-2520-403e-abf8-b922146f798f",
   "metadata": {},
   "outputs": [
    {
     "name": "stderr",
     "output_type": "stream",
     "text": [
      "/Users/kyle/opt/anaconda3/envs/dev/lib/python3.10/site-packages/sklearn/preprocessing/_encoders.py:868: FutureWarning: `sparse` was renamed to `sparse_output` in version 1.2 and will be removed in 1.4. `sparse_output` is ignored unless you leave `sparse` to its default value.\n",
      "  warnings.warn(\n"
     ]
    }
   ],
   "source": [
    "# One hot encode the data\n",
    "merged_df = one_hot_encode(merged_df)"
   ]
  },
  {
   "cell_type": "markdown",
   "id": "2a30bdda-3b7e-4442-87c2-2a25df929b38",
   "metadata": {},
   "source": [
    "### 6. Train-Test Split"
   ]
  },
  {
   "cell_type": "code",
   "execution_count": 38,
   "id": "14f3482b-a1de-49ec-832d-3d26a3ff83c2",
   "metadata": {},
   "outputs": [],
   "source": [
    "X = merged_df.drop(columns=['Short Squeeze'])\n",
    "y = merged_df['Short Squeeze']\n",
    "X_train, X_test, y_train, y_test = train_test_split(X, y, test_size=0.2, random_state=42)"
   ]
  },
  {
   "cell_type": "markdown",
   "id": "1e97530b-412e-42b3-b7d9-70cec7721374",
   "metadata": {},
   "source": [
    "### 7. Data Normalization"
   ]
  },
  {
   "cell_type": "code",
   "execution_count": 19,
   "id": "f22b3632-5e3e-4876-9797-c4094b7a5339",
   "metadata": {},
   "outputs": [],
   "source": [
    "# Drop the 'Symbol' column from X_train and X_test\n",
    "X_train_scaled = X_train.drop('Symbol', axis=1)\n",
    "X_test_scaled = X_test.drop('Symbol', axis=1)\n",
    "\n",
    "# Drop the 'Date' column from X_train and X_test\n",
    "X_train_scaled = X_train_scaled.drop('Date', axis=1)\n",
    "X_test_scaled = X_test_scaled.drop('Date', axis=1)\n",
    "\n",
    "# Scale the numerical features\n",
    "scaler = StandardScaler()\n",
    "X_train_scaled = scaler.fit_transform(X_train_scaled)\n",
    "X_test_scaled = scaler.transform(X_test_scaled)"
   ]
  },
  {
   "cell_type": "markdown",
   "id": "bfc6387c-dc72-4bc8-bb05-8c2ccfc0fb2e",
   "metadata": {},
   "source": [
    "### 8. Model Training\n",
    "#### Feedforward Neural Network (FNN)"
   ]
  },
  {
   "cell_type": "code",
   "execution_count": 20,
   "id": "16d4ce2e-a325-4859-840e-2f9c9b7b96c0",
   "metadata": {},
   "outputs": [
    {
     "name": "stdout",
     "output_type": "stream",
     "text": [
      "Epoch 1/50\n",
      "2/2 - 0s - loss: 0.7687 - accuracy: 0.3774 - 315ms/epoch - 157ms/step\n",
      "Epoch 2/50\n",
      "2/2 - 0s - loss: 0.6607 - accuracy: 0.4906 - 4ms/epoch - 2ms/step\n",
      "Epoch 3/50\n",
      "2/2 - 0s - loss: 0.5748 - accuracy: 0.7358 - 4ms/epoch - 2ms/step\n",
      "Epoch 4/50\n",
      "2/2 - 0s - loss: 0.5041 - accuracy: 0.7925 - 4ms/epoch - 2ms/step\n",
      "Epoch 5/50\n",
      "2/2 - 0s - loss: 0.4430 - accuracy: 0.8491 - 4ms/epoch - 2ms/step\n",
      "Epoch 6/50\n",
      "2/2 - 0s - loss: 0.3992 - accuracy: 0.8868 - 4ms/epoch - 2ms/step\n",
      "Epoch 7/50\n",
      "2/2 - 0s - loss: 0.3594 - accuracy: 0.9057 - 4ms/epoch - 2ms/step\n",
      "Epoch 8/50\n",
      "2/2 - 0s - loss: 0.3255 - accuracy: 0.9057 - 5ms/epoch - 2ms/step\n",
      "Epoch 9/50\n",
      "2/2 - 0s - loss: 0.2997 - accuracy: 0.8868 - 4ms/epoch - 2ms/step\n",
      "Epoch 10/50\n",
      "2/2 - 0s - loss: 0.2784 - accuracy: 0.8868 - 3ms/epoch - 2ms/step\n",
      "Epoch 11/50\n",
      "2/2 - 0s - loss: 0.2581 - accuracy: 0.8868 - 4ms/epoch - 2ms/step\n",
      "Epoch 12/50\n",
      "2/2 - 0s - loss: 0.2414 - accuracy: 0.8868 - 4ms/epoch - 2ms/step\n",
      "Epoch 13/50\n",
      "2/2 - 0s - loss: 0.2251 - accuracy: 0.9057 - 3ms/epoch - 2ms/step\n",
      "Epoch 14/50\n",
      "2/2 - 0s - loss: 0.2102 - accuracy: 0.9057 - 4ms/epoch - 2ms/step\n",
      "Epoch 15/50\n",
      "2/2 - 0s - loss: 0.1980 - accuracy: 0.9057 - 4ms/epoch - 2ms/step\n",
      "Epoch 16/50\n",
      "2/2 - 0s - loss: 0.1851 - accuracy: 0.9057 - 3ms/epoch - 2ms/step\n",
      "Epoch 17/50\n",
      "2/2 - 0s - loss: 0.1752 - accuracy: 0.9057 - 4ms/epoch - 2ms/step\n",
      "Epoch 18/50\n",
      "2/2 - 0s - loss: 0.1645 - accuracy: 0.9245 - 3ms/epoch - 2ms/step\n",
      "Epoch 19/50\n",
      "2/2 - 0s - loss: 0.1551 - accuracy: 0.9623 - 4ms/epoch - 2ms/step\n",
      "Epoch 20/50\n",
      "2/2 - 0s - loss: 0.1478 - accuracy: 0.9623 - 3ms/epoch - 2ms/step\n",
      "Epoch 21/50\n",
      "2/2 - 0s - loss: 0.1393 - accuracy: 0.9811 - 4ms/epoch - 2ms/step\n",
      "Epoch 22/50\n",
      "2/2 - 0s - loss: 0.1329 - accuracy: 0.9811 - 4ms/epoch - 2ms/step\n",
      "Epoch 23/50\n",
      "2/2 - 0s - loss: 0.1255 - accuracy: 0.9811 - 3ms/epoch - 2ms/step\n",
      "Epoch 24/50\n",
      "2/2 - 0s - loss: 0.1194 - accuracy: 0.9811 - 4ms/epoch - 2ms/step\n",
      "Epoch 25/50\n",
      "2/2 - 0s - loss: 0.1142 - accuracy: 0.9811 - 3ms/epoch - 2ms/step\n",
      "Epoch 26/50\n",
      "2/2 - 0s - loss: 0.1091 - accuracy: 0.9811 - 3ms/epoch - 2ms/step\n",
      "Epoch 27/50\n",
      "2/2 - 0s - loss: 0.1042 - accuracy: 0.9811 - 4ms/epoch - 2ms/step\n",
      "Epoch 28/50\n",
      "2/2 - 0s - loss: 0.0992 - accuracy: 0.9811 - 4ms/epoch - 2ms/step\n",
      "Epoch 29/50\n",
      "2/2 - 0s - loss: 0.0944 - accuracy: 0.9811 - 3ms/epoch - 2ms/step\n",
      "Epoch 30/50\n",
      "2/2 - 0s - loss: 0.0901 - accuracy: 0.9811 - 4ms/epoch - 2ms/step\n",
      "Epoch 31/50\n",
      "2/2 - 0s - loss: 0.0857 - accuracy: 1.0000 - 4ms/epoch - 2ms/step\n",
      "Epoch 32/50\n",
      "2/2 - 0s - loss: 0.0821 - accuracy: 1.0000 - 4ms/epoch - 2ms/step\n",
      "Epoch 33/50\n",
      "2/2 - 0s - loss: 0.0781 - accuracy: 1.0000 - 4ms/epoch - 2ms/step\n",
      "Epoch 34/50\n",
      "2/2 - 0s - loss: 0.0743 - accuracy: 1.0000 - 4ms/epoch - 2ms/step\n",
      "Epoch 35/50\n",
      "2/2 - 0s - loss: 0.0710 - accuracy: 1.0000 - 3ms/epoch - 2ms/step\n",
      "Epoch 36/50\n",
      "2/2 - 0s - loss: 0.0677 - accuracy: 1.0000 - 4ms/epoch - 2ms/step\n",
      "Epoch 37/50\n",
      "2/2 - 0s - loss: 0.0647 - accuracy: 1.0000 - 4ms/epoch - 2ms/step\n",
      "Epoch 38/50\n",
      "2/2 - 0s - loss: 0.0620 - accuracy: 1.0000 - 3ms/epoch - 2ms/step\n",
      "Epoch 39/50\n",
      "2/2 - 0s - loss: 0.0592 - accuracy: 1.0000 - 4ms/epoch - 2ms/step\n",
      "Epoch 40/50\n",
      "2/2 - 0s - loss: 0.0564 - accuracy: 1.0000 - 4ms/epoch - 2ms/step\n",
      "Epoch 41/50\n",
      "2/2 - 0s - loss: 0.0540 - accuracy: 1.0000 - 4ms/epoch - 2ms/step\n",
      "Epoch 42/50\n",
      "2/2 - 0s - loss: 0.0516 - accuracy: 1.0000 - 4ms/epoch - 2ms/step\n",
      "Epoch 43/50\n",
      "2/2 - 0s - loss: 0.0492 - accuracy: 1.0000 - 4ms/epoch - 2ms/step\n",
      "Epoch 44/50\n",
      "2/2 - 0s - loss: 0.0471 - accuracy: 1.0000 - 4ms/epoch - 2ms/step\n",
      "Epoch 45/50\n",
      "2/2 - 0s - loss: 0.0448 - accuracy: 1.0000 - 4ms/epoch - 2ms/step\n",
      "Epoch 46/50\n",
      "2/2 - 0s - loss: 0.0429 - accuracy: 1.0000 - 4ms/epoch - 2ms/step\n",
      "Epoch 47/50\n",
      "2/2 - 0s - loss: 0.0409 - accuracy: 1.0000 - 4ms/epoch - 2ms/step\n",
      "Epoch 48/50\n",
      "2/2 - 0s - loss: 0.0395 - accuracy: 1.0000 - 3ms/epoch - 2ms/step\n",
      "Epoch 49/50\n",
      "2/2 - 0s - loss: 0.0378 - accuracy: 1.0000 - 4ms/epoch - 2ms/step\n",
      "Epoch 50/50\n",
      "2/2 - 0s - loss: 0.0362 - accuracy: 1.0000 - 4ms/epoch - 2ms/step\n"
     ]
    },
    {
     "data": {
      "text/plain": [
       "<keras.callbacks.History at 0x7f87643d9ab0>"
      ]
     },
     "execution_count": 20,
     "metadata": {},
     "output_type": "execute_result"
    }
   ],
   "source": [
    "model = Sequential()\n",
    "model.add(Dense(64, input_dim=X_train_scaled.shape[1], activation='relu'))\n",
    "model.add(Dense(32, activation='relu'))\n",
    "model.add(Dense(1, activation='sigmoid'))\n",
    "\n",
    "model.compile(loss='binary_crossentropy', optimizer='adam', metrics=['accuracy'])\n",
    "model.fit(X_train_scaled, y_train, epochs=50, batch_size=32, verbose=2)"
   ]
  },
  {
   "cell_type": "markdown",
   "id": "478a13c3-08a8-408d-9764-e2c23f18d561",
   "metadata": {},
   "source": [
    "### 9. Model Evaluation"
   ]
  },
  {
   "cell_type": "code",
   "execution_count": 21,
   "id": "2db89a54-a2c4-4253-a824-a4e528c63d10",
   "metadata": {},
   "outputs": [
    {
     "name": "stdout",
     "output_type": "stream",
     "text": [
      "Test Accuracy: 85.71%\n"
     ]
    }
   ],
   "source": [
    "loss, accuracy = model.evaluate(X_test_scaled, y_test, verbose=0)\n",
    "print(f'Test Accuracy: {accuracy*100:.2f}%')"
   ]
  },
  {
   "cell_type": "markdown",
   "id": "f9c1af90-05dc-4bf4-a472-c14f85163ee5",
   "metadata": {},
   "source": [
    "### 10. Model Predictions"
   ]
  },
  {
   "cell_type": "code",
   "execution_count": 22,
   "id": "7ae278fc-d0f4-46d7-899a-a6a72e5c26e0",
   "metadata": {},
   "outputs": [
    {
     "name": "stdout",
     "output_type": "stream",
     "text": [
      "1/1 [==============================] - 0s 79ms/step\n"
     ]
    }
   ],
   "source": [
    "predictions = model.predict(X_test_scaled)\n",
    "# Since this is a binary classification problem, we'll set a threshold at 0.5\n",
    "predictions = [1 if pred > 0.5 else 0 for pred in predictions]"
   ]
  },
  {
   "cell_type": "code",
   "execution_count": 23,
   "id": "9607a9d9-ae20-4013-af8e-58d633da15d0",
   "metadata": {},
   "outputs": [
    {
     "name": "stdout",
     "output_type": "stream",
     "text": [
      "    Actual  Predicted\n",
      "28       0          0\n",
      "61       0          0\n",
      "64       0          0\n",
      "4        1          0\n",
      "12       1          0\n",
      "59       0          0\n",
      "9        0          0\n",
      "45       0          0\n",
      "40       0          0\n",
      "0        0          0\n"
     ]
    }
   ],
   "source": [
    "# You might want to compare these predictions with the actual values\n",
    "comparison_df = pd.DataFrame({'Actual': y_test, 'Predicted': predictions})\n",
    "\n",
    "# Print out a sample of the comparison DataFrame\n",
    "print(comparison_df.sample(10))"
   ]
  },
  {
   "cell_type": "markdown",
   "id": "b8c6007e-635d-4b28-ada9-1907d38a6b1e",
   "metadata": {},
   "source": [
    "### 11. Performance Metrics"
   ]
  },
  {
   "cell_type": "code",
   "execution_count": 24,
   "id": "d0b4c8d8-342a-4520-a46b-e73807680f16",
   "metadata": {},
   "outputs": [
    {
     "name": "stdout",
     "output_type": "stream",
     "text": [
      "              precision    recall  f1-score   support\n",
      "\n",
      "           0       0.86      1.00      0.92        12\n",
      "           1       0.00      0.00      0.00         2\n",
      "\n",
      "    accuracy                           0.86        14\n",
      "   macro avg       0.43      0.50      0.46        14\n",
      "weighted avg       0.73      0.86      0.79        14\n",
      "\n",
      "[[12  0]\n",
      " [ 2  0]]\n"
     ]
    },
    {
     "name": "stderr",
     "output_type": "stream",
     "text": [
      "/Users/kyle/opt/anaconda3/envs/dev/lib/python3.10/site-packages/sklearn/metrics/_classification.py:1344: UndefinedMetricWarning: Precision and F-score are ill-defined and being set to 0.0 in labels with no predicted samples. Use `zero_division` parameter to control this behavior.\n",
      "  _warn_prf(average, modifier, msg_start, len(result))\n",
      "/Users/kyle/opt/anaconda3/envs/dev/lib/python3.10/site-packages/sklearn/metrics/_classification.py:1344: UndefinedMetricWarning: Precision and F-score are ill-defined and being set to 0.0 in labels with no predicted samples. Use `zero_division` parameter to control this behavior.\n",
      "  _warn_prf(average, modifier, msg_start, len(result))\n",
      "/Users/kyle/opt/anaconda3/envs/dev/lib/python3.10/site-packages/sklearn/metrics/_classification.py:1344: UndefinedMetricWarning: Precision and F-score are ill-defined and being set to 0.0 in labels with no predicted samples. Use `zero_division` parameter to control this behavior.\n",
      "  _warn_prf(average, modifier, msg_start, len(result))\n"
     ]
    }
   ],
   "source": [
    "print(classification_report(y_test, predictions))\n",
    "print(confusion_matrix(y_test, predictions))"
   ]
  },
  {
   "cell_type": "code",
   "execution_count": null,
   "id": "2b9b298c-4b7c-4819-a1d4-b3dddebfb790",
   "metadata": {},
   "outputs": [],
   "source": [
    "# Save the model\n",
    "model.save('my_model')\n",
    "\n",
    "# Load the model later\n",
    "from tensorflow.keras.models import load_model\n",
    "loaded_model = load_model('my_model')"
   ]
  },
  {
   "cell_type": "markdown",
   "id": "ec7d1570-b481-48a0-a200-af4668e9a101",
   "metadata": {},
   "source": [
    "## Alternative Models\n",
    "### Random Forest vs SMOTE"
   ]
  },
  {
   "cell_type": "code",
   "execution_count": 26,
   "id": "8cf2c856-d6bc-41af-80a5-245e8756c96d",
   "metadata": {},
   "outputs": [
    {
     "data": {
      "text/plain": [
       "0    45\n",
       "1     8\n",
       "Name: Short Squeeze, dtype: int64"
      ]
     },
     "execution_count": 26,
     "metadata": {},
     "output_type": "execute_result"
    }
   ],
   "source": [
    "# Count the distinct values in the original labels data\n",
    "y_train.value_counts()"
   ]
  },
  {
   "cell_type": "code",
   "execution_count": 27,
   "id": "7ca517cc-540a-465e-94dd-36835971ebe2",
   "metadata": {},
   "outputs": [],
   "source": [
    "# Create a random forest classifier\n",
    "rf_model = RandomForestClassifier(n_estimators=100, random_state=1)\n",
    "\n",
    "# Fitting the model\n",
    "rf_model = rf_model.fit(X_train_scaled, y_train)\n",
    "\n",
    "# Making predictions using the testing data\n",
    "rf_predictions = rf_model.predict(X_test_scaled)"
   ]
  },
  {
   "cell_type": "code",
   "execution_count": 28,
   "id": "5eefb2f2-826d-42d2-88cc-97be3d3147b6",
   "metadata": {},
   "outputs": [],
   "source": [
    "# Instantiate SMOTE\n",
    "smote_sampler = SMOTE(random_state=1, sampling_strategy='minority')\n",
    "\n",
    "# Fit the SMOTE model to the training data\n",
    "X_resampled, y_resampled = smote_sampler.fit_resample(X_train_scaled, y_train)\n",
    "\n",
    "# Fit the RandomForestClassifier on the resampled data\n",
    "model_resampled_rf = RandomForestClassifier()\n",
    "model_resampled_rf.fit(X_resampled, y_resampled)\n",
    "\n",
    "# Generate predictions based on the resampled data model\n",
    "rf_resampled_predictions = model_resampled_rf.predict(X_test_scaled)"
   ]
  },
  {
   "cell_type": "code",
   "execution_count": 33,
   "id": "cd6118f8-3290-47b6-9cb5-b52ca2860ab4",
   "metadata": {},
   "outputs": [
    {
     "name": "stdout",
     "output_type": "stream",
     "text": [
      "Original Data:\n",
      "[[12  0]\n",
      " [ 0  2]]\n",
      "Oversampled Data:\n",
      "[[12  0]\n",
      " [ 1  1]]\n"
     ]
    }
   ],
   "source": [
    "print(f'Original Data:\\n{confusion_matrix(y_test, rf_predictions)}')\n",
    "print(f'Oversampled Data:\\n{confusion_matrix(y_test, rf_resampled_predictions)}')"
   ]
  },
  {
   "cell_type": "code",
   "execution_count": 35,
   "id": "077119fd-8dab-46ba-a738-ca414db08fc8",
   "metadata": {},
   "outputs": [
    {
     "name": "stdout",
     "output_type": "stream",
     "text": [
      "Original Data: 1.0\n",
      "Oversampled Data: 0.75\n"
     ]
    }
   ],
   "source": [
    "baso = balanced_accuracy_score(y_test, rf_predictions)\n",
    "print(f'Original Data: {baso}')\n",
    "basrs = balanced_accuracy_score(y_test, rf_resampled_predictions)\n",
    "print(f'Oversampled Data: {basrs}')"
   ]
  },
  {
   "cell_type": "code",
   "execution_count": 37,
   "id": "3c46c739-130d-41de-915d-d0a6d1746614",
   "metadata": {},
   "outputs": [
    {
     "name": "stdout",
     "output_type": "stream",
     "text": [
      "Original Data:\n",
      "                   pre       rec       spe        f1       geo       iba       sup\n",
      "\n",
      "          0       1.00      1.00      1.00      1.00      1.00      1.00        12\n",
      "          1       1.00      1.00      1.00      1.00      1.00      1.00         2\n",
      "\n",
      "avg / total       1.00      1.00      1.00      1.00      1.00      1.00        14\n",
      "\n",
      "Oversampled Data:\n",
      "                   pre       rec       spe        f1       geo       iba       sup\n",
      "\n",
      "          0       0.92      1.00      0.50      0.96      0.71      0.53        12\n",
      "          1       1.00      0.50      1.00      0.67      0.71      0.48         2\n",
      "\n",
      "avg / total       0.93      0.93      0.57      0.92      0.71      0.52        14\n",
      "\n"
     ]
    }
   ],
   "source": [
    "print(f'Original Data:\\n{classification_report_imbalanced(y_test, rf_predictions)}')\n",
    "print(f'Oversampled Data:\\n{classification_report_imbalanced(y_test, rf_resampled_predictions)}')"
   ]
  },
  {
   "cell_type": "code",
   "execution_count": null,
   "id": "dcfe10c2-401d-47ea-826a-2dba836a80de",
   "metadata": {},
   "outputs": [],
   "source": []
  }
 ],
 "metadata": {
  "kernelspec": {
   "display_name": "Python 3 (ipykernel)",
   "language": "python",
   "name": "python3"
  },
  "language_info": {
   "codemirror_mode": {
    "name": "ipython",
    "version": 3
   },
   "file_extension": ".py",
   "mimetype": "text/x-python",
   "name": "python",
   "nbconvert_exporter": "python",
   "pygments_lexer": "ipython3",
   "version": "3.10.8"
  }
 },
 "nbformat": 4,
 "nbformat_minor": 5
}
