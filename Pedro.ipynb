{
 "cells": [
  {
   "cell_type": "markdown",
   "id": "d747d1a4-8886-4542-9a9b-7a688ce24204",
   "metadata": {},
   "source": [
    "# Pedro - Short Queeze Predictor"
   ]
  },
  {
   "cell_type": "code",
   "execution_count": 7,
   "id": "21cbc40f-ce77-4480-95cb-bd09c8372915",
   "metadata": {},
   "outputs": [],
   "source": [
    "# Initial imports\n",
    "import os\n",
    "from sec_api import InsiderTradingApi\n",
    "import pandas as pd\n",
    "import math\n",
    "from dotenv import load_dotenv"
   ]
  },
  {
   "cell_type": "code",
   "execution_count": 8,
   "id": "df84dfac-34c6-4b3e-a272-91d9131823bc",
   "metadata": {},
   "outputs": [
    {
     "data": {
      "text/plain": [
       "True"
      ]
     },
     "execution_count": 8,
     "metadata": {},
     "output_type": "execute_result"
    }
   ],
   "source": [
    "# Load .env enviroment variables\n",
    "load_dotenv(dotenv_path=\"SEC.env\")"
   ]
  },
  {
   "cell_type": "code",
   "execution_count": 9,
   "id": "ec402e60-3369-409f-b833-d21773c31b27",
   "metadata": {},
   "outputs": [],
   "source": [
    "# Set SEC API key and secret\n",
    "api_key = os.getenv(\"SEC_API_KEY\")"
   ]
  },
  {
   "cell_type": "code",
   "execution_count": 10,
   "id": "b8baff43-131e-4a81-9642-e50673e14789",
   "metadata": {},
   "outputs": [],
   "source": [
    "def flatten_filing(filing):\n",
    "    transactions = []\n",
    "    base_data = {\"periodOfReport\": filing[\"periodOfReport\"], \n",
    "                \"issuerCik\": filing[\"issuer\"][\"cik\"],\n",
    "                \"issuerTicker\": filing[\"issuer\"][\"tradingSymbol\"],\n",
    "                \"reportingPerson\": filing[\"reportingOwner\"][\"name\"]\n",
    "                }\n",
    "    if \"transactions\" not in filing[\"nonDerivativeTable\"]:\n",
    "        return []\n",
    "    for transaction in filing[\"nonDerivativeTable\"][\"transactions\"]:\n",
    "        entry = {\"securityTitle\": transaction[\"securityTitle\"],\n",
    "                \"codingCode\": transaction[\"coding\"][\"code\"],\n",
    "                \"acquiredDisposed\": transaction[\"amounts\"][\"acquiredDisposedCode\"],\n",
    "                \"shares\": transaction[\"amounts\"][\"shares\"],\n",
    "                \"sharePrice\": transaction[\"amounts\"][\"pricePerShare\"],\n",
    "                \"total\": math.ceil(transaction[\"amounts\"][\"shares\"] * transaction[\"amounts\"][\"pricePerShare\"]),\n",
    "                \"sharesOwnedFollowingTransaction\": transaction[\"postTransactionAmounts\"][\"sharesOwnedFollowingTransaction\"]\n",
    "                }\n",
    "        transactions.append({**base_data, **entry})\n",
    "    return transactions\n",
    "\n",
    "def flatten_filings(filings):\n",
    "    unflattened_list = list(map(flatten_filing, filings))\n",
    "    return [item for sublist in unflattened_list for item in sublist]"
   ]
  },
  {
   "cell_type": "code",
   "execution_count": 13,
   "id": "ec17ed1d-d919-47c2-adc7-89bf6c6d8f13",
   "metadata": {},
   "outputs": [
    {
     "name": "stdout",
     "output_type": "stream",
     "text": [
      "Empty DataFrame\n",
      "Columns: []\n",
      "Index: []\n",
      "Empty DataFrame\n",
      "Columns: []\n",
      "Index: []\n",
      "Empty DataFrame\n",
      "Columns: []\n",
      "Index: []\n"
     ]
    }
   ],
   "source": [
    "# Define your function here\n",
    "def get_insider_trades(symbol, start_date, end_date, api_key):\n",
    "    insiderTradingApi = InsiderTradingApi(api_key)\n",
    "    query = {\n",
    "        \"query\": {\"query_string\": {\"query\": f\"issuer.tradingSymbol:{symbol} AND filedAt:{{gte:'{start_date}', lte:'{end_date}'}}\"}},\n",
    "        \"from\": \"0\",\n",
    "        \"size\": \"50\",\n",
    "        \"sort\": [{ \"filedAt\": { \"order\": \"desc\" } }]\n",
    "    }\n",
    "    insider_trades = insiderTradingApi.get_data(query)\n",
    "\n",
    "    transactions = flatten_filings(insider_trades[\"transactions\"])\n",
    "\n",
    "    df = pd.DataFrame(transactions)\n",
    "\n",
    "    return df\n",
    "\n",
    "# Your list of stock symbols\n",
    "symbols = [\"BRK-A\", \"TSLA\", \"TPL\"]\n",
    "\n",
    "# Your start and end dates\n",
    "start_date = '2023-01-01'\n",
    "end_date = '2023-06-30'\n",
    "\n",
    "# Iterate through your list of symbols and call your function\n",
    "for symbol in symbols:\n",
    "    df = get_insider_trades(symbol, start_date, end_date, api_key)\n",
    "    print(df)"
   ]
  },
  {
   "cell_type": "code",
   "execution_count": null,
   "id": "61b0dd19-5ad1-4c50-befb-75b6231bf38d",
   "metadata": {},
   "outputs": [],
   "source": []
  }
 ],
 "metadata": {
  "kernelspec": {
   "display_name": "Python 3 (ipykernel)",
   "language": "python",
   "name": "python3"
  },
  "language_info": {
   "codemirror_mode": {
    "name": "ipython",
    "version": 3
   },
   "file_extension": ".py",
   "mimetype": "text/x-python",
   "name": "python",
   "nbconvert_exporter": "python",
   "pygments_lexer": "ipython3",
   "version": "3.7.13"
  }
 },
 "nbformat": 4,
 "nbformat_minor": 5
}
