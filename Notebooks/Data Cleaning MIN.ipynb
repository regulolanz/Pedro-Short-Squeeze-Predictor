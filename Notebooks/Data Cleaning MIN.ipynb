{
 "cells": [
  {
   "cell_type": "markdown",
   "id": "6453f0fb-c190-49c4-9bfc-9fe7f0eaea76",
   "metadata": {},
   "source": [
    "# Pedro - Short Queeze Predictor"
   ]
  },
  {
   "cell_type": "code",
   "execution_count": null,
   "id": "90b45547-2fb6-4ed7-95be-bc74cc34282f",
   "metadata": {},
   "outputs": [],
   "source": []
  },
  {
   "cell_type": "markdown",
   "id": "03d0e666-936e-4bd6-82a5-b8dd1d67308b",
   "metadata": {},
   "source": [
    "### 1. Short Data"
   ]
  },
  {
   "cell_type": "code",
   "execution_count": null,
   "id": "5c97ea1a-7c66-4189-b5e4-eb9912badc69",
   "metadata": {},
   "outputs": [],
   "source": [
    "import pandas as pd\n",
    "import glob\n",
    "\n",
    "# Get a list of all xlsx files in the \"Resources\" folder\n",
    "file_paths = glob.glob('Resources/Short_Data/2023*.xlsx')\n",
    "\n",
    "# Initialize an empty list to store individual DataFrames\n",
    "dfs = []\n",
    "\n",
    "# Iterate over each file path and read the Excel file into a DataFrame\n",
    "for file_path in file_paths:\n",
    "    df = pd.read_excel(file_path, engine='openpyxl')\n",
    "    dfs.append(df)\n",
    "\n",
    "# Concatenate all DataFrames into a single DataFrame\n",
    "combined_df = pd.concat(dfs, ignore_index=True)\n",
    "\n",
    "# Rename the 'ShortSqueeze.com Short Interest Data' column\n",
    "combined_df.rename(columns={'ShortSqueeze.com Short Interest Data': 'Company Name'}, inplace=True)\n",
    "\n",
    "# Drop unnecessary columns\n",
    "columns_to_drop = ['Total Short Interest', 'Days to Cover', 'Performance (52-wk)', 'Short: Prior Mo', '% Change Mo/Mo', 'Shares: Float',\n",
    "                   'Avg. Daily Vol.', 'Shares: Outstanding', 'Short Squeeze Ranking™', '% from 52-wk High', '(abs)',\n",
    "                   '% from 200 day MA', '(abs).1', '% from 50 day MA', '(abs).2', '% Insider Ownership', '% Institutional Ownership']\n",
    "\n",
    "# Check if the columns exist in the dataframe before dropping them\n",
    "columns_to_drop = [col for col in columns_to_drop if col in combined_df.columns]\n",
    "\n",
    "combined_df.drop(columns_to_drop, axis=1, inplace=True)\n",
    "\n",
    "# Convert 'Short % of Float' column to numeric\n",
    "combined_df['Short % of Float'] = pd.to_numeric(combined_df['Short % of Float'], errors='coerce')\n",
    "\n",
    "# Filter by Short % of Float >= 17\n",
    "combined_df = combined_df[combined_df['Short % of Float'] >= 17]\n",
    "\n",
    "# Convert 'Market Cap' column to numeric\n",
    "combined_df['Market Cap'] = pd.to_numeric(combined_df['Market Cap'], errors='coerce')\n",
    "\n",
    "# Drop columns where Market Cap is less than 300,000,000\n",
    "combined_df = combined_df[combined_df['Market Cap'] >= 300000000]\n",
    "\n",
    "# Replace 'Record Date' values\n",
    "date_mapping = {\n",
    "    'JanA': '01-11', 'JanB': '01-25',\n",
    "    'FebA': '02-09', 'FebB': '02-27',\n",
    "    'MarA': '03-09', 'MarB': '03-24',\n",
    "    'AprA': '04-12', 'AprB': '04-25',\n",
    "    'MayA': '05-09', 'MayB': '05-24',\n",
    "    'JunA': '06-09', 'JunB': '06-27'\n",
    "}\n",
    "\n",
    "combined_df['Record Date'] = combined_df['Record Date'].str.replace(r'(\\d{4})-(\\w+)', lambda m: f'{m.group(1)}-{date_mapping[m.group(2)]}')\n",
    "\n",
    "# Reset the index\n",
    "combined_df.reset_index(drop=True, inplace=True)\n",
    "\n",
    "# Sort by 'Record Date' in ascending order\n",
    "combined_df.sort_values('Record Date', inplace=True)\n",
    "\n",
    "# Display the combined dataframe\n",
    "combined_df"
   ]
  },
  {
   "cell_type": "markdown",
   "id": "7c3b9234-480a-4202-b3d4-f78371fe7d16",
   "metadata": {},
   "source": [
    "### 2. Insider Trading Data"
   ]
  },
  {
   "cell_type": "code",
   "execution_count": null,
   "id": "fc7b5058-f9fc-4925-8e38-3628020dcfba",
   "metadata": {},
   "outputs": [],
   "source": [
    "from pathlib import Path\n",
    "insider_df = pd.read_csv(Path(\"Resources/InsiderTrading.csv\"))\n",
    "insider_df.head()"
   ]
  },
  {
   "cell_type": "code",
   "execution_count": null,
   "id": "361df31b-7769-43d1-9560-8aa738fec077",
   "metadata": {},
   "outputs": [],
   "source": [
    "common_symbols = pd.merge(combined_df, insider_df, on='Symbol')['Symbol'].drop_duplicates()\n",
    "print(common_symbols)"
   ]
  },
  {
   "cell_type": "code",
   "execution_count": null,
   "id": "a6652b22-a356-40d3-9643-21bbb4bd97f1",
   "metadata": {},
   "outputs": [],
   "source": [
    "combined_df = combined_df[combined_df['Symbol'].isin(common_symbols)]\n",
    "insider_df = insider_df[insider_df['Symbol'].isin(common_symbols)]"
   ]
  },
  {
   "cell_type": "code",
   "execution_count": null,
   "id": "8d6554cd-df6d-4c07-b880-e4116584d02a",
   "metadata": {},
   "outputs": [],
   "source": [
    "combined_df.rename(columns={'Record Date': 'Date'}, inplace=True)\n",
    "combined_df['Date'] = pd.to_datetime(combined_df['Date'])\n",
    "combined_df.sort_values('Date', inplace=True)"
   ]
  },
  {
   "cell_type": "code",
   "execution_count": null,
   "id": "b8c474ff-581e-44a0-a6b2-572ff6cb1046",
   "metadata": {},
   "outputs": [],
   "source": [
    "combined_df.drop(['Company Name', '% Insider Ownership', '% Institutional Ownership', 'Market Cap', 'Exchange', 'Sector', 'Industry', 'Price'], axis=1)"
   ]
  },
  {
   "cell_type": "code",
   "execution_count": null,
   "id": "a539cd97-8ce1-4109-8b82-fe0871b94d23",
   "metadata": {},
   "outputs": [],
   "source": [
    "insider_df.head()"
   ]
  },
  {
   "cell_type": "code",
   "execution_count": null,
   "id": "f3d24be8-0fd0-408e-9980-d2537f4a3ecf",
   "metadata": {},
   "outputs": [],
   "source": [
    "insider_df.drop(['Insider', 'Share Price', 'Num. of Shares', 'Relation', 'Num. of Insiders', 'Transaction'], axis=1)"
   ]
  },
  {
   "cell_type": "code",
   "execution_count": null,
   "id": "392dc2cf-ee7b-4d01-82e7-7a21b57b7449",
   "metadata": {},
   "outputs": [],
   "source": [
    "import matplotlib.pyplot as plt\n",
    "import pandas as pd\n",
    "\n",
    "# Create a dictionary to map symbols to colors or marker styles\n",
    "symbol_mapping = {'HPK': 'b', 'RILY': 'g', 'DISH': 'r', 'SAVA': 'c', 'KSS': 'm', 'FATE': 'y', 'EVA': 'k', 'LAZR': 'orange', 'ZUMZ': 'purple', 'RCUS': 'brown'}\n",
    "\n",
    "# Convert 'Date' column to datetime format\n",
    "insider_df['Date'] = pd.to_datetime(insider_df['Date'])\n",
    "\n",
    "# Sort the dataframe by 'Date'\n",
    "insider_df = insider_df.sort_values('Date')\n",
    "\n",
    "# Create two subplots side by side\n",
    "fig, (ax1, ax2) = plt.subplots(1, 2, figsize=(12, 5))\n",
    "\n",
    "# Scatter plot of investments by symbol on the left subplot\n",
    "for symbol, data in insider_df.groupby('Symbol'):\n",
    "    ax1.scatter(data['Date'], data['Total Amount'] / 1000000, c=symbol_mapping[symbol], label=symbol, alpha=0.5)\n",
    "\n",
    "# Set the title and labels for the left subplot\n",
    "ax1.set_title('Investment by Symbol')\n",
    "ax1.set_xlabel('Date')\n",
    "ax1.set_ylabel('Total Amount (Million Dollars)')\n",
    "\n",
    "# Rotate and adjust x-axis tick labels for the left subplot\n",
    "ax1.set_xticklabels(ax1.get_xticklabels(), rotation=45, ha='right')\n",
    "\n",
    "# Add a legend to the left subplot\n",
    "ax1.legend(bbox_to_anchor=(1.05, 1), loc='upper left')\n",
    "\n",
    "# Group the dataframe by Symbol\n",
    "combined_grouped = combined_df.groupby('Symbol')\n",
    "\n",
    "# Scatter plot of Short % of Float by symbol on the right subplot\n",
    "for symbol, data in combined_grouped:\n",
    "    ax2.scatter(data['Date'], data['Short % of Float'], label=symbol)\n",
    "\n",
    "# Set the title and labels for the right subplot\n",
    "ax2.set_title('Short % of Float by Symbol')\n",
    "ax2.set_xlabel('Date')\n",
    "ax2.set_ylabel('Short % of Float')\n",
    "\n",
    "# Rotate and adjust x-axis tick labels for the right subplot\n",
    "ax2.set_xticklabels(ax2.get_xticklabels(), rotation=45, ha='right')\n",
    "\n",
    "# Add a legend to the right subplot\n",
    "ax2.legend(bbox_to_anchor=(1.05, 1), loc='upper left')\n",
    "\n",
    "# Adjust the spacing between subplots\n",
    "plt.tight_layout()\n",
    "\n",
    "# Show the plot\n",
    "plt.show()"
   ]
  },
  {
   "cell_type": "code",
   "execution_count": null,
   "id": "a7bff7db-f874-4bf0-8687-3575a609844d",
   "metadata": {},
   "outputs": [],
   "source": [
    "import os\n",
    "import alpaca_trade_api as tradeapi\n",
    "from dotenv import load_dotenv\n",
    "import hvplot.pandas\n",
    "\n",
    "load_dotenv('alpaca.env')\n",
    "\n",
    "# Set Alpaca API key and secret\n",
    "alpaca_api_key = os.getenv(\"ALPACA_API_KEY\")\n",
    "alpaca_secret_key = os.getenv(\"ALPACA_SECRET_KEY\")\n",
    "\n",
    "\n",
    "api = tradeapi.REST(\n",
    "    alpaca_api_key,\n",
    "    alpaca_secret_key,\n",
    "    api_version = \"v2\"\n",
    ")"
   ]
  },
  {
   "cell_type": "code",
   "execution_count": null,
   "id": "0290d291-efad-4191-9744-cf681548b99c",
   "metadata": {},
   "outputs": [],
   "source": [
    "# Define the list of tickers\n",
    "tickers = ['FATE', 'LAZR', 'SAVA', 'RILY', 'ZUMZ', 'DISH', 'HPK', 'KSS', 'EVA', 'RCUS']\n",
    "\n",
    "timeframe = \"1Day\"\n",
    "start_date = pd.Timestamp(\"2023-01-01\", tz=\"America/New_York\").isoformat()\n",
    "end_date = pd.Timestamp(\"2023-06-30\", tz=\"America/New_York\").isoformat()\n",
    "\n",
    "# Create an empty dictionary to store the data for each ticker\n",
    "data_dict = {}\n",
    "\n",
    "# Retrieve data for each ticker and store it in the dictionary\n",
    "for ticker in tickers:\n",
    "    ticker_data = api.get_bars(\n",
    "        ticker,\n",
    "        timeframe,\n",
    "        start=start_date,\n",
    "        end=end_date\n",
    "    ).df\n",
    "    data_dict[ticker] = ticker_data"
   ]
  },
  {
   "cell_type": "code",
   "execution_count": null,
   "id": "91f91bb4-4fa7-4b44-b306-83b6606fe8c8",
   "metadata": {},
   "outputs": [],
   "source": [
    "for ticker in tickers:\n",
    "    # Filter the dataframe to include only rows with the Symbol\n",
    "    insider = insider_df[insider_df['Symbol'] == ticker]\n",
    "\n",
    "    # Create a figure and axes\n",
    "    fig, ax1 = plt.subplots()\n",
    "\n",
    "    # Plot the 'close' data \n",
    "    ax1.plot(data_dict[ticker]['close'], color='blue', label='close')\n",
    "\n",
    "    # Set the y-axis label for the 'close' data\n",
    "    ax1.set_ylabel('Close')\n",
    "\n",
    "    # Create a second y-axis for the 'Total Amount' data\n",
    "    ax2 = ax1.twinx()\n",
    "\n",
    "    # Plot the 'Total Amount' data \n",
    "    ax2.scatter(insider['Date'], insider['Total Amount'], color='red', marker='o', label='Insider Trading')\n",
    "\n",
    "    # Set the y-axis label for the 'Total Amount' data\n",
    "    ax2.set_ylabel('Total Amount')\n",
    "\n",
    "    # Filter the second dataframe to include only rows with the Symbol\n",
    "    float_short = combined_df[combined_df['Symbol'] == ticker]\n",
    "\n",
    "    # Plot the 'Short % of Float' data\n",
    "    ax1.scatter(float_short['Date'], float_short['Short % of Float'], color='green', marker='o', label='Short % of Float')\n",
    "\n",
    "    # Set the y-axis label for the 'Short % of Float' data\n",
    "    ax1.set_ylabel('Short % of Float')\n",
    "\n",
    "    # Set the title and legend\n",
    "    ax1.set_title(f'{ticker} Data Overlay')\n",
    "    ax1.legend(loc='upper left', bbox_to_anchor=(1.8, 1))\n",
    "    ax2.legend(loc='upper right', bbox_to_anchor=(1.8, 1))\n",
    "\n",
    "    # Rotate and adjust x-axis tick labels\n",
    "    plt.xticks(rotation=45, ha='right')\n",
    "\n",
    "    # Show the plot\n",
    "    plt.tight_layout()\n",
    "    plt.show()"
   ]
  },
  {
   "cell_type": "code",
   "execution_count": null,
   "id": "f1fff979-de60-424d-997f-3fdb8d966250",
   "metadata": {},
   "outputs": [],
   "source": []
  }
 ],
 "metadata": {
  "kernelspec": {
   "display_name": "Python 3 (ipykernel)",
   "language": "python",
   "name": "python3"
  },
  "language_info": {
   "codemirror_mode": {
    "name": "ipython",
    "version": 3
   },
   "file_extension": ".py",
   "mimetype": "text/x-python",
   "name": "python",
   "nbconvert_exporter": "python",
   "pygments_lexer": "ipython3",
   "version": "3.7.13"
  }
 },
 "nbformat": 4,
 "nbformat_minor": 5
}
