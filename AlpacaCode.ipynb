{
 "cells": [
  {
   "cell_type": "code",
   "execution_count": 1,
   "id": "c9b9b99c-97af-487e-9ec8-e3f9dabc4c37",
   "metadata": {},
   "outputs": [],
   "source": [
    "# Initial imports\n",
    "import os\n",
    "import pandas as pd\n",
    "from pathlib import Path\n",
    "from dotenv import load_dotenv\n",
    "import alpaca_trade_api as tradeapi"
   ]
  },
  {
   "cell_type": "code",
   "execution_count": 2,
   "id": "63a6d6f3-bde7-462a-b611-fb0e02700c7c",
   "metadata": {},
   "outputs": [
    {
     "data": {
      "text/plain": [
       "True"
      ]
     },
     "execution_count": 2,
     "metadata": {},
     "output_type": "execute_result"
    }
   ],
   "source": [
    "# Load .env enviroment variables\n",
    "load_dotenv(dotenv_path=\"Alpaca.env\")"
   ]
  },
  {
   "cell_type": "code",
   "execution_count": 3,
   "id": "d84cab24-6f20-4fed-bc24-53023442d930",
   "metadata": {},
   "outputs": [],
   "source": [
    "# Set Alpaca API key and secret\n",
    "alpaca_api_key = os.getenv(\"ALPACA_API_KEY\")\n",
    "alpaca_secret_key = os.getenv(\"ALPACA_SECRET_KEY\")\n",
    "alpaca_api_base_url = \"https://paper-api.alpaca.markets\""
   ]
  },
  {
   "cell_type": "code",
   "execution_count": 4,
   "id": "a092e9bf-9595-425e-9f9b-5f80e5139295",
   "metadata": {},
   "outputs": [],
   "source": [
    "# Create the Alpaca API object\n",
    "api = tradeapi.REST(\n",
    "    alpaca_api_key,\n",
    "    alpaca_secret_key,\n",
    "    alpaca_api_base_url,\n",
    "    api_version=\"v2\"\n",
    ")"
   ]
  },
  {
   "cell_type": "code",
   "execution_count": 5,
   "id": "c0d30d7d-ba39-450b-95ed-a2fc42c3b0f7",
   "metadata": {},
   "outputs": [],
   "source": [
    "# Set signal variable\n",
    "signal = 1"
   ]
  },
  {
   "cell_type": "code",
   "execution_count": 6,
   "id": "e39b224d-fd87-4db2-9291-4376218e985a",
   "metadata": {},
   "outputs": [
    {
     "name": "stdout",
     "output_type": "stream",
     "text": [
      "$200000 is available as buying power.\n"
     ]
    }
   ],
   "source": [
    "# Get account information\n",
    "account = api.get_account()\n",
    "\n",
    "# Check if our account is restricted from trading.\n",
    "if account.trading_blocked:\n",
    "    print('Account is currently restricted from trading.')\n",
    "\n",
    "# Print our current balance.\n",
    "print('${} is available as buying power.'.format(account.buying_power))\n"
   ]
  },
  {
   "cell_type": "code",
   "execution_count": null,
   "id": "e59ee0d7-6fc1-466f-a692-f2eb0c485bb7",
   "metadata": {},
   "outputs": [],
   "source": []
  }
 ],
 "metadata": {
  "kernelspec": {
   "display_name": "Python 3 (ipykernel)",
   "language": "python",
   "name": "python3"
  },
  "language_info": {
   "codemirror_mode": {
    "name": "ipython",
    "version": 3
   },
   "file_extension": ".py",
   "mimetype": "text/x-python",
   "name": "python",
   "nbconvert_exporter": "python",
   "pygments_lexer": "ipython3",
   "version": "3.7.13"
  }
 },
 "nbformat": 4,
 "nbformat_minor": 5
}
