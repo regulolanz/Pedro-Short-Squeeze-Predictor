{
 "cells": [
  {
   "cell_type": "code",
   "execution_count": 2,
   "id": "ce7a3218-16eb-4b95-8274-a50bfc28d5c6",
   "metadata": {},
   "outputs": [],
   "source": [
    "#Import Required Libraries\n",
    "import os\n",
    "import alpaca_trade_api as tradeapi\n",
    "import datetime\n",
    "from dotenv import load_dotenv\n",
    "from alpaca_trade_api.rest import TimeFrame"
   ]
  },
  {
   "cell_type": "code",
   "execution_count": 3,
   "id": "ae828b38-0377-479e-bdd8-0dfa9c540b87",
   "metadata": {},
   "outputs": [
    {
     "data": {
      "text/plain": [
       "True"
      ]
     },
     "execution_count": 3,
     "metadata": {},
     "output_type": "execute_result"
    }
   ],
   "source": [
    "# Load .env environment variables\n",
    "load_dotenv()"
   ]
  },
  {
   "cell_type": "code",
   "execution_count": 4,
   "id": "1833f63b-a03b-4178-9862-0c3dbf8c56e8",
   "metadata": {},
   "outputs": [],
   "source": [
    "# Access the environment variables from the .env file\n",
    "alpaca_api_key = os.getenv(\"ALPACA_API_KEY\")\n",
    "alpaca_secret_key = os.getenv(\"ALPACA_SECRET_KEY\")"
   ]
  },
  {
   "cell_type": "code",
   "execution_count": 5,
   "id": "0d1f3569-32ba-42e7-93a2-dbe460d9dd81",
   "metadata": {},
   "outputs": [
    {
     "name": "stdout",
     "output_type": "stream",
     "text": [
      "Alpaca Key type: <class 'str'>\n",
      "Alpaca Secret Key type: <class 'str'>\n"
     ]
    }
   ],
   "source": [
    "# Verify that Alpaca key and secret were correctly loaded\n",
    "print(f\"Alpaca Key type: {type(alpaca_api_key)}\")\n",
    "print(f\"Alpaca Secret Key type: {type(alpaca_secret_key)}\")"
   ]
  },
  {
   "cell_type": "code",
   "execution_count": 6,
   "id": "b7019e89-1edf-4fdc-a2dc-02c4e6b9e497",
   "metadata": {},
   "outputs": [],
   "source": [
    "# Create the Alpaca API object\n",
    "alpaca = tradeapi.REST(\n",
    "    alpaca_api_key,\n",
    "    alpaca_secret_key,\n",
    "    api_version=\"v2\" ,\n",
    "    base_url='https://paper-api.alpaca.markets'\n",
    ")"
   ]
  },
  {
   "cell_type": "code",
   "execution_count": 7,
   "id": "0055f768-2352-4f0d-b817-eed49f874a3c",
   "metadata": {},
   "outputs": [],
   "source": [
    "#Define Trading Parameters\n",
    "symbol = '<stock-symbol>'\n",
    "quantity = 100  # The quantity of shares to trade\n"
   ]
  },
  {
   "cell_type": "code",
   "execution_count": null,
   "id": "f906b5c7-1053-4669-8d7f-6f5d35299d5a",
   "metadata": {},
   "outputs": [],
   "source": [
    "#Retrieve Market Data\n",
    "# Set the time range for historical data\n",
    "end_date = datetime.datetime.now()\n",
    "start_date = end_date - datetime.timedelta(days=30)  # Adjust the number of days as needed\n",
    "\n",
    "# Fetch historical data from Alpaca API\n",
    "api.get_bars(\n",
    "  symbol='AAPL',\n",
    "  timeframe=TimeFrame.Minute,\n",
    "  start=\"2019-04-15T09:30:00-04:00\", \n",
    "  end=\"2019-04-16T09:30:00-04:00\", \n",
    "  limit=10, \n",
    ")\n",
    "\n",
    "\n"
   ]
  },
  {
   "cell_type": "code",
   "execution_count": null,
   "id": "f30be625-8db0-4268-935b-2ada555da99b",
   "metadata": {},
   "outputs": [],
   "source": [
    "## Load the pre-trained short squeeze predictor model\n",
    "model = load_model('Pedro-Short-Squeeze-Predictor/Pedro-Short-Squeeze-Predictor/Pedro_Model.ipynb')  # Replace with the actual path and filename of your model\n",
    "\n",
    "# Prepare the input data for inference\n",
    "# Assuming you have preprocessed and extracted relevant features into the `features` DataFrame\n",
    "X = features.values  # Convert the DataFrame to a numpy array\n",
    "\n",
    "# Apply the model to generate predictions\n",
    "predictions = model.predict(X)\n"
   ]
  },
  {
   "cell_type": "code",
   "execution_count": null,
   "id": "9ffa43ea-fe47-496a-9a65-724320afa15d",
   "metadata": {},
   "outputs": [],
   "source": [
    "#Generate Buy/Sell Signals\n",
    "signals = []\n",
    "for prediction in predictions:\n",
    "    if prediction >= 0.7:  # Example threshold for a buy signal\n",
    "        signals.append('BUY')\n",
    "    elif prediction <= 0.3:  # Example threshold for a sell signal\n",
    "        signals.append('SELL')\n",
    "    else:\n",
    "        signals.append('HOLD')\n"
   ]
  },
  {
   "cell_type": "code",
   "execution_count": null,
   "id": "e4b69064-4e73-4825-bd8d-23ba88816de3",
   "metadata": {},
   "outputs": [],
   "source": [
    "# Assuming you have defined the quantity and other trade parameters\n",
    "if signals[-1] == 'BUY':\n",
    "    api.submit_order(\n",
    "        symbol=symbol,\n",
    "        qty=quantity,  # Replace with the desired quantity\n",
    "        side='buy',\n",
    "        type='market',\n",
    "        time_in_force='gtc'\n",
    "    )\n"
   ]
  }
 ],
 "metadata": {
  "kernelspec": {
   "display_name": "Python 3 (ipykernel)",
   "language": "python",
   "name": "python3"
  },
  "language_info": {
   "codemirror_mode": {
    "name": "ipython",
    "version": 3
   },
   "file_extension": ".py",
   "mimetype": "text/x-python",
   "name": "python",
   "nbconvert_exporter": "python",
   "pygments_lexer": "ipython3",
   "version": "3.10.11"
  }
 },
 "nbformat": 4,
 "nbformat_minor": 5
}
