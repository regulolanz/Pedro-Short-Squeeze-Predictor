{
 "cells": [
  {
   "cell_type": "code",
   "execution_count": 29,
   "id": "ce7a3218-16eb-4b95-8274-a50bfc28d5c6",
   "metadata": {},
   "outputs": [],
   "source": [
    "#Import Required Libraries\n",
    "import os\n",
    "import alpaca_trade_api as tradeapi\n",
    "import datetime\n",
    "from dotenv import load_dotenv\n",
    "from alpaca_trade_api.rest import TimeFrame"
   ]
  },
  {
   "cell_type": "code",
   "execution_count": 30,
   "id": "ae828b38-0377-479e-bdd8-0dfa9c540b87",
   "metadata": {},
   "outputs": [
    {
     "data": {
      "text/plain": [
       "True"
      ]
     },
     "execution_count": 30,
     "metadata": {},
     "output_type": "execute_result"
    }
   ],
   "source": [
    "# Load .env environment variables\n",
    "load_dotenv()"
   ]
  },
  {
   "cell_type": "code",
   "execution_count": 31,
   "id": "1833f63b-a03b-4178-9862-0c3dbf8c56e8",
   "metadata": {},
   "outputs": [],
   "source": [
    "# Access the environment variables from the .env file\n",
    "alpaca_api_key = os.getenv(\"ALPACA_API_KEY\")\n",
    "alpaca_secret_key = os.getenv(\"ALPACA_SECRET_KEY\")"
   ]
  },
  {
   "cell_type": "code",
   "execution_count": 32,
   "id": "0d1f3569-32ba-42e7-93a2-dbe460d9dd81",
   "metadata": {},
   "outputs": [
    {
     "name": "stdout",
     "output_type": "stream",
     "text": [
      "Alpaca Key type: <class 'str'>\n",
      "Alpaca Secret Key type: <class 'str'>\n"
     ]
    }
   ],
   "source": [
    "# Verify that Alpaca key and secret were correctly loaded\n",
    "print(f\"Alpaca Key type: {type(alpaca_api_key)}\")\n",
    "print(f\"Alpaca Secret Key type: {type(alpaca_secret_key)}\")"
   ]
  },
  {
   "cell_type": "code",
   "execution_count": 33,
   "id": "b7019e89-1edf-4fdc-a2dc-02c4e6b9e497",
   "metadata": {},
   "outputs": [],
   "source": [
    "# Create the Alpaca API object\n",
    "alpaca = tradeapi.REST(\n",
    "    alpaca_api_key,\n",
    "    alpaca_secret_key,\n",
    "    api_version=\"v2\" ,\n",
    "    base_url='https://paper-api.alpaca.markets'\n",
    ")"
   ]
  },
  {
   "cell_type": "code",
   "execution_count": 34,
   "id": "0055f768-2352-4f0d-b817-eed49f874a3c",
   "metadata": {},
   "outputs": [],
   "source": [
    "#Define Trading Parameters\n",
    "symbol = '<stock-symbol>'\n",
    "quantity = 100  # The quantity of shares to trade\n"
   ]
  },
  {
   "cell_type": "code",
   "execution_count": 36,
   "id": "f906b5c7-1053-4669-8d7f-6f5d35299d5a",
   "metadata": {},
   "outputs": [
    {
     "ename": "NameError",
     "evalue": "name 'api' is not defined",
     "output_type": "error",
     "traceback": [
      "\u001b[0;31m---------------------------------------------------------------------------\u001b[0m",
      "\u001b[0;31mNameError\u001b[0m                                 Traceback (most recent call last)",
      "Cell \u001b[0;32mIn[36], line 7\u001b[0m\n\u001b[1;32m      4\u001b[0m start_date \u001b[38;5;241m=\u001b[39m end_date \u001b[38;5;241m-\u001b[39m datetime\u001b[38;5;241m.\u001b[39mtimedelta(days\u001b[38;5;241m=\u001b[39m\u001b[38;5;241m30\u001b[39m)  \u001b[38;5;66;03m# Adjust the number of days as needed\u001b[39;00m\n\u001b[1;32m      6\u001b[0m \u001b[38;5;66;03m# Fetch historical data from Alpaca API\u001b[39;00m\n\u001b[0;32m----> 7\u001b[0m \u001b[43mapi\u001b[49m\u001b[38;5;241m.\u001b[39mget_bars(\n\u001b[1;32m      8\u001b[0m   symbol\u001b[38;5;241m=\u001b[39m\u001b[38;5;124m'\u001b[39m\u001b[38;5;124mAAPL\u001b[39m\u001b[38;5;124m'\u001b[39m,\n\u001b[1;32m      9\u001b[0m   timeframe\u001b[38;5;241m=\u001b[39mTimeFrame\u001b[38;5;241m.\u001b[39mMinute,\n\u001b[1;32m     10\u001b[0m   start\u001b[38;5;241m=\u001b[39m\u001b[38;5;124m\"\u001b[39m\u001b[38;5;124m2019-04-15T09:30:00-04:00\u001b[39m\u001b[38;5;124m\"\u001b[39m, \n\u001b[1;32m     11\u001b[0m   end\u001b[38;5;241m=\u001b[39m\u001b[38;5;124m\"\u001b[39m\u001b[38;5;124m2019-04-16T09:30:00-04:00\u001b[39m\u001b[38;5;124m\"\u001b[39m, \n\u001b[1;32m     12\u001b[0m   limit\u001b[38;5;241m=\u001b[39m\u001b[38;5;241m10\u001b[39m, \n\u001b[1;32m     13\u001b[0m )\n",
      "\u001b[0;31mNameError\u001b[0m: name 'api' is not defined"
     ]
    }
   ],
   "source": [
    "#Retrieve Market Data\n",
    "# Set the time range for historical data\n",
    "end_date = datetime.datetime.now()\n",
    "start_date = end_date - datetime.timedelta(days=30)  # Adjust the number of days as needed\n",
    "\n",
    "# Fetch historical data from Alpaca API\n",
    "api.get_bars(\n",
    "  symbol='AAPL',\n",
    "  timeframe=TimeFrame.Minute,\n",
    "  start=\"2019-04-15T09:30:00-04:00\", \n",
    "  end=\"2019-04-16T09:30:00-04:00\", \n",
    "  limit=10, \n",
    ")\n",
    "\n",
    "\n"
   ]
  },
  {
   "cell_type": "code",
   "execution_count": null,
   "id": "f30be625-8db0-4268-935b-2ada555da99b",
   "metadata": {},
   "outputs": [],
   "source": []
  },
  {
   "cell_type": "code",
   "execution_count": null,
   "id": "9ffa43ea-fe47-496a-9a65-724320afa15d",
   "metadata": {},
   "outputs": [],
   "source": []
  }
 ],
 "metadata": {
  "kernelspec": {
   "display_name": "Python 3 (ipykernel)",
   "language": "python",
   "name": "python3"
  },
  "language_info": {
   "codemirror_mode": {
    "name": "ipython",
    "version": 3
   },
   "file_extension": ".py",
   "mimetype": "text/x-python",
   "name": "python",
   "nbconvert_exporter": "python",
   "pygments_lexer": "ipython3",
   "version": "3.10.11"
  }
 },
 "nbformat": 4,
 "nbformat_minor": 5
}
