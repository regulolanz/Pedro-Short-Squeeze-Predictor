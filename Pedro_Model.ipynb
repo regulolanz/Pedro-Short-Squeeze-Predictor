{
 "cells": [
  {
   "cell_type": "markdown",
   "id": "d747d1a4-8886-4542-9a9b-7a688ce24204",
   "metadata": {},
   "source": [
    "# Pedro - Short Queeze Predictor\n",
    "---"
   ]
  },
  {
   "cell_type": "markdown",
   "id": "c6b61898-777a-4387-a889-cdf838a3f7ed",
   "metadata": {},
   "source": [
    "### 1. Libraries Import"
   ]
  },
  {
   "cell_type": "code",
   "execution_count": 117,
   "id": "dc6fc2c9-97c4-4fd6-8bd8-2900aa31ee20",
   "metadata": {},
   "outputs": [],
   "source": [
    "import numpy as np\n",
    "import pandas as pd\n",
    "import yfinance as yf\n",
    "from pathlib import Path\n",
    "import matplotlib.pyplot as plt\n",
    "import pandas_market_calendars as mcal\n",
    "\n",
    "import tensorflow as tf\n",
    "from sklearn.svm import SVC\n",
    "from sklearn.metrics import classification_report\n",
    "from sklearn.model_selection import train_test_split\n",
    "from sklearn.ensemble import GradientBoostingClassifier\n",
    "from sklearn.preprocessing import StandardScaler,OneHotEncoder"
   ]
  },
  {
   "cell_type": "markdown",
   "id": "c1f87b9a-5895-41ac-8484-d83d60b3c992",
   "metadata": {},
   "source": [
    "### 2. Data Import"
   ]
  },
  {
   "cell_type": "code",
   "execution_count": 118,
   "id": "dc5c0e3a-b298-447d-8f98-e5da85bcb2ed",
   "metadata": {},
   "outputs": [],
   "source": [
    "merged_df = pd.read_csv(\n",
    "    Path(\"Resources/ShortSqueezeData.csv\"),\n",
    "    parse_dates=True,\n",
    "    infer_datetime_format=True\n",
    ")"
   ]
  },
  {
   "cell_type": "markdown",
   "id": "f70e87de-266f-4b86-ae79-976ac6671f48",
   "metadata": {},
   "source": [
    "### 3. Data Cleaning"
   ]
  },
  {
   "cell_type": "code",
   "execution_count": 119,
   "id": "3e3b7b21-142b-4869-ac37-d0ecbe4eb286",
   "metadata": {},
   "outputs": [],
   "source": [
    "columns_to_drop = ['Company Name', 'Close Price Day 1', 'Close Price Day 2', 'Close Price Day 5', 'Close Price Day 7',\n",
    "                   'Close Price Day 15', 'Close Price Day 30', 'Return (1 Days)', 'Return (2 Days)',\n",
    "                   'Return (5 Days)', 'Return (7 Days)', 'Return (15 Days)', 'Return (30 Days)',\n",
    "                   'Highest Day Return', 'Highest Close Price']\n",
    "\n",
    "merged_df = merged_df.drop(columns=columns_to_drop)"
   ]
  },
  {
   "cell_type": "code",
   "execution_count": 120,
   "id": "241b9865-4d9d-49ba-96d8-a1314debbf90",
   "metadata": {},
   "outputs": [],
   "source": [
    "merged_df.drop_duplicates(subset=['Symbol', 'Short % of Float'], keep='first', inplace=True)"
   ]
  },
  {
   "cell_type": "code",
   "execution_count": 121,
   "id": "de9c341b-4c1a-4c0f-99be-5b5fbaa5413e",
   "metadata": {},
   "outputs": [
    {
     "data": {
      "text/html": [
       "<div>\n",
       "<style scoped>\n",
       "    .dataframe tbody tr th:only-of-type {\n",
       "        vertical-align: middle;\n",
       "    }\n",
       "\n",
       "    .dataframe tbody tr th {\n",
       "        vertical-align: top;\n",
       "    }\n",
       "\n",
       "    .dataframe thead th {\n",
       "        text-align: right;\n",
       "    }\n",
       "</style>\n",
       "<table border=\"1\" class=\"dataframe\">\n",
       "  <thead>\n",
       "    <tr style=\"text-align: right;\">\n",
       "      <th></th>\n",
       "      <th>Date</th>\n",
       "      <th>Symbol</th>\n",
       "      <th>Short % of Float</th>\n",
       "      <th>Total Amount</th>\n",
       "      <th>Market Cap</th>\n",
       "      <th>% Insider Ownership</th>\n",
       "      <th>Relation</th>\n",
       "      <th>Sector</th>\n",
       "      <th>Short Squeeze</th>\n",
       "    </tr>\n",
       "  </thead>\n",
       "  <tbody>\n",
       "    <tr>\n",
       "      <th>0</th>\n",
       "      <td>2022-02-09</td>\n",
       "      <td>ASAN</td>\n",
       "      <td>26.61</td>\n",
       "      <td>3.498911e+06</td>\n",
       "      <td>4.969085e+09</td>\n",
       "      <td>23.30</td>\n",
       "      <td>Large Shareholder, Officer, Director</td>\n",
       "      <td>Technology</td>\n",
       "      <td>1</td>\n",
       "    </tr>\n",
       "    <tr>\n",
       "      <th>6</th>\n",
       "      <td>2022-09-07</td>\n",
       "      <td>ASAN</td>\n",
       "      <td>17.92</td>\n",
       "      <td>3.500000e+08</td>\n",
       "      <td>2.637014e+09</td>\n",
       "      <td>30.69</td>\n",
       "      <td>Large Shareholder, Officer, Director</td>\n",
       "      <td>Technology</td>\n",
       "      <td>1</td>\n",
       "    </tr>\n",
       "    <tr>\n",
       "      <th>9</th>\n",
       "      <td>2021-11-12</td>\n",
       "      <td>ATUS</td>\n",
       "      <td>20.71</td>\n",
       "      <td>1.001230e+06</td>\n",
       "      <td>4.739197e+09</td>\n",
       "      <td>13.47</td>\n",
       "      <td>Director</td>\n",
       "      <td>Communication Services</td>\n",
       "      <td>0</td>\n",
       "    </tr>\n",
       "    <tr>\n",
       "      <th>10</th>\n",
       "      <td>2021-09-27</td>\n",
       "      <td>AXDX</td>\n",
       "      <td>22.47</td>\n",
       "      <td>7.995000e+05</td>\n",
       "      <td>3.387720e+08</td>\n",
       "      <td>45.14</td>\n",
       "      <td>Large Shareholder, Director</td>\n",
       "      <td>Healthcare</td>\n",
       "      <td>1</td>\n",
       "    </tr>\n",
       "    <tr>\n",
       "      <th>11</th>\n",
       "      <td>2021-11-18</td>\n",
       "      <td>AXDX</td>\n",
       "      <td>20.41</td>\n",
       "      <td>6.055088e+05</td>\n",
       "      <td>3.351096e+08</td>\n",
       "      <td>45.14</td>\n",
       "      <td>Large Shareholder, Director</td>\n",
       "      <td>Healthcare</td>\n",
       "      <td>0</td>\n",
       "    </tr>\n",
       "  </tbody>\n",
       "</table>\n",
       "</div>"
      ],
      "text/plain": [
       "          Date Symbol  Short % of Float  Total Amount    Market Cap  \\\n",
       "0   2022-02-09   ASAN             26.61  3.498911e+06  4.969085e+09   \n",
       "6   2022-09-07   ASAN             17.92  3.500000e+08  2.637014e+09   \n",
       "9   2021-11-12   ATUS             20.71  1.001230e+06  4.739197e+09   \n",
       "10  2021-09-27   AXDX             22.47  7.995000e+05  3.387720e+08   \n",
       "11  2021-11-18   AXDX             20.41  6.055088e+05  3.351096e+08   \n",
       "\n",
       "    % Insider Ownership                              Relation  \\\n",
       "0                 23.30  Large Shareholder, Officer, Director   \n",
       "6                 30.69  Large Shareholder, Officer, Director   \n",
       "9                 13.47                              Director   \n",
       "10                45.14           Large Shareholder, Director   \n",
       "11                45.14           Large Shareholder, Director   \n",
       "\n",
       "                    Sector  Short Squeeze  \n",
       "0               Technology              1  \n",
       "6               Technology              1  \n",
       "9   Communication Services              0  \n",
       "10              Healthcare              1  \n",
       "11              Healthcare              0  "
      ]
     },
     "execution_count": 121,
     "metadata": {},
     "output_type": "execute_result"
    }
   ],
   "source": [
    "merged_df.head()"
   ]
  },
  {
   "cell_type": "code",
   "execution_count": 122,
   "id": "a810b253-6353-4c32-91d1-bb3410fe1083",
   "metadata": {},
   "outputs": [
    {
     "name": "stdout",
     "output_type": "stream",
     "text": [
      "Short Squeeze: 20\n",
      "Non Short Squeeze: 30\n"
     ]
    }
   ],
   "source": [
    "# Short Squeeze vs. Non Short Squeeze Counts in DataFrame\n",
    "short_squeeze_count = merged_df.loc[merged_df['Short Squeeze'] == 1, 'Short Squeeze'].count()\n",
    "no_short_squeeze_count = merged_df.loc[merged_df['Short Squeeze'] == 0, 'Short Squeeze'].count()\n",
    "\n",
    "print(\"Short Squeeze:\", short_squeeze_count)\n",
    "print(\"Non Short Squeeze:\", no_short_squeeze_count)"
   ]
  },
  {
   "cell_type": "markdown",
   "id": "375af6ff-e752-4ab8-9c5e-c9d0af0bbcb2",
   "metadata": {},
   "source": [
    "### 4. Data Visualization"
   ]
  },
  {
   "cell_type": "code",
   "execution_count": 123,
   "id": "179bdef4-ca41-4912-b9b8-e4453840f8b9",
   "metadata": {},
   "outputs": [
    {
     "data": {
      "text/plain": [
       "<Figure size 1000x600 with 0 Axes>"
      ]
     },
     "metadata": {},
     "output_type": "display_data"
    },
    {
     "data": {
      "image/png": "[encoded data removed]",
      "text/plain": [
       "<Figure size 640x480 with 1 Axes>"
      ]
     },
     "metadata": {},
     "output_type": "display_data"
    }
   ],
   "source": [
    "# Visualization by Sector\n",
    "plt.figure(figsize=(10, 6))\n",
    "grouped_df = merged_df.groupby('Sector')['Short Squeeze'].sum().reset_index()\n",
    "grouped_df.plot(x='Sector', y='Short Squeeze', kind='bar')\n",
    "plt.title('Short Squeeze by Sector')\n",
    "plt.xlabel('Sector')\n",
    "plt.ylabel('Count')\n",
    "plt.xticks(rotation=45)\n",
    "plt.show()"
   ]
  },
  {
   "cell_type": "code",
   "execution_count": 124,
   "id": "4c654dd1-5602-4d05-94d3-adb6e616a042",
   "metadata": {},
   "outputs": [
    {
     "data": {
      "text/plain": [
       "<Figure size 800x600 with 0 Axes>"
      ]
     },
     "metadata": {},
     "output_type": "display_data"
    },
    {
     "data": {
      "image/png": "[encoded data removed]",
      "text/plain": [
       "<Figure size 640x480 with 1 Axes>"
      ]
     },
     "metadata": {},
     "output_type": "display_data"
    }
   ],
   "source": [
    "# Visualization by Year\n",
    "merged_df['Year'] = pd.to_datetime(merged_df['Date']).dt.year\n",
    "plt.figure(figsize=(8, 6))\n",
    "grouped_df = merged_df.groupby('Year')['Short Squeeze'].sum().reset_index()\n",
    "grouped_df.plot(x='Year', y='Short Squeeze', kind='bar')\n",
    "plt.title('Short Squeeze by Year')\n",
    "plt.xlabel('Year')\n",
    "plt.ylabel('Count')\n",
    "plt.xticks(rotation=0)\n",
    "plt.show()"
   ]
  },
  {
   "cell_type": "markdown",
   "id": "a70ee5d7-336c-4eac-883a-cfb9264e395e",
   "metadata": {},
   "source": [
    "### 5. One Hot Encoding"
   ]
  },
  {
   "cell_type": "code",
   "execution_count": 125,
   "id": "90ffbefb-b2d0-4945-ac33-8ed06d5430e0",
   "metadata": {},
   "outputs": [],
   "source": [
    "def one_hot_encode(df):\n",
    "    encoder = OneHotEncoder(sparse=False)\n",
    "    categorical_variables = ['Sector', 'Relation']\n",
    "    encoded_data = encoder.fit_transform(df[categorical_variables])\n",
    "    encoded_df = pd.DataFrame(encoded_data, columns=encoder.get_feature_names_out(categorical_variables))\n",
    "    encoded_df.index = df.index \n",
    "    numerical_df = df.drop(columns=categorical_variables, axis=1)\n",
    "    return pd.concat([numerical_df, encoded_df], axis=1)"
   ]
  },
  {
   "cell_type": "code",
   "execution_count": 126,
   "id": "6244d34b-2520-403e-abf8-b922146f798f",
   "metadata": {},
   "outputs": [],
   "source": [
    "# One hot encode the data\n",
    "merged_df = one_hot_encode(merged_df)"
   ]
  },
  {
   "cell_type": "markdown",
   "id": "2a30bdda-3b7e-4442-87c2-2a25df929b38",
   "metadata": {},
   "source": [
    "### 6. Train-Test Split"
   ]
  },
  {
   "cell_type": "code",
   "execution_count": 127,
   "id": "14f3482b-a1de-49ec-832d-3d26a3ff83c2",
   "metadata": {},
   "outputs": [],
   "source": [
    "# Drop the 'Short Squeeze', 'Symbol' and 'Date' columns for features\n",
    "X = merged_df.drop(columns=['Short Squeeze', 'Symbol', 'Date'])\n",
    "y = merged_df['Short Squeeze']\n",
    "\n",
    "# split the dataset into training set and test set\n",
    "X_train, X_test, y_train, y_test = train_test_split(X, y, test_size=0.2, random_state=42)"
   ]
  },
  {
   "cell_type": "markdown",
   "id": "1e97530b-412e-42b3-b7d9-70cec7721374",
   "metadata": {},
   "source": [
    "### 8. Data Normalization"
   ]
  },
  {
   "cell_type": "code",
   "execution_count": 128,
   "id": "f22b3632-5e3e-4876-9797-c4094b7a5339",
   "metadata": {},
   "outputs": [],
   "source": [
    "# Scale the numerical features\n",
    "scaler = StandardScaler()\n",
    "X_train_scaled = scaler.fit_transform(X_train)\n",
    "X_test_scaled = scaler.transform(X_test)"
   ]
  },
  {
   "cell_type": "markdown",
   "id": "bfc6387c-dc72-4bc8-bb05-8c2ccfc0fb2e",
   "metadata": {},
   "source": [
    "### 9. Model Training"
   ]
  },
  {
   "cell_type": "markdown",
   "id": "3d711311-4213-44b7-84a4-8b2a0df62875",
   "metadata": {},
   "source": [
    "#### Gradient Boosting Classifier"
   ]
  },
  {
   "cell_type": "code",
   "execution_count": 129,
   "id": "cda04105-3c5d-46bf-b462-e23c4703178f",
   "metadata": {},
   "outputs": [],
   "source": [
    "# Create the classifier\n",
    "gb_classifier = GradientBoostingClassifier(random_state=42)"
   ]
  },
  {
   "cell_type": "code",
   "execution_count": 130,
   "id": "7f96f74c-d9ac-4ed0-840a-5aab2fcedaca",
   "metadata": {},
   "outputs": [
    {
     "data": {
      "text/plain": [
       "GradientBoostingClassifier(random_state=42)"
      ]
     },
     "execution_count": 130,
     "metadata": {},
     "output_type": "execute_result"
    }
   ],
   "source": [
    "# Train the model\n",
    "gb_classifier.fit(X_train_scaled, y_train)"
   ]
  },
  {
   "cell_type": "code",
   "execution_count": 131,
   "id": "9e9808e5-ee9b-4914-ba8e-f05c88f1f446",
   "metadata": {},
   "outputs": [],
   "source": [
    "# Predict the test data\n",
    "y_pred_gb = gb_classifier.predict(X_test_scaled)"
   ]
  },
  {
   "cell_type": "code",
   "execution_count": 132,
   "id": "bba0d8f0-086c-4384-879a-4ef360537fc1",
   "metadata": {},
   "outputs": [
    {
     "name": "stdout",
     "output_type": "stream",
     "text": [
      "              precision    recall  f1-score   support\n",
      "\n",
      "           0       0.75      0.86      0.80         7\n",
      "           1       0.50      0.33      0.40         3\n",
      "\n",
      "    accuracy                           0.70        10\n",
      "   macro avg       0.62      0.60      0.60        10\n",
      "weighted avg       0.68      0.70      0.68        10\n",
      "\n"
     ]
    }
   ],
   "source": [
    "# Print classification report\n",
    "print(classification_report(y_test, y_pred_gb))"
   ]
  },
  {
   "cell_type": "markdown",
   "id": "8b252a43-568b-4e8f-b1fe-be2a754b3b7f",
   "metadata": {},
   "source": [
    "#### Support Vector Machine (SVM)"
   ]
  },
  {
   "cell_type": "code",
   "execution_count": 133,
   "id": "5b9cfedc-195e-4c62-9d3c-780247f3c20d",
   "metadata": {},
   "outputs": [],
   "source": [
    "# Create the classifier\n",
    "svc_classifier = SVC(random_state=42)"
   ]
  },
  {
   "cell_type": "code",
   "execution_count": 134,
   "id": "630d7e12-e5ec-401d-a8e7-5bd6d2621a2c",
   "metadata": {},
   "outputs": [
    {
     "data": {
      "text/plain": [
       "SVC(random_state=42)"
      ]
     },
     "execution_count": 134,
     "metadata": {},
     "output_type": "execute_result"
    }
   ],
   "source": [
    "# Train the model\n",
    "svc_classifier.fit(X_train_scaled, y_train)"
   ]
  },
  {
   "cell_type": "code",
   "execution_count": 135,
   "id": "a844028c-df9f-4e6c-a921-c4450d1d1f29",
   "metadata": {},
   "outputs": [],
   "source": [
    "# Predict the test data\n",
    "y_pred_svc = svc_classifier.predict(X_test_scaled)"
   ]
  },
  {
   "cell_type": "code",
   "execution_count": 136,
   "id": "c2634cb9-cf9e-44d9-afae-3dd3cdb9aaef",
   "metadata": {},
   "outputs": [
    {
     "name": "stdout",
     "output_type": "stream",
     "text": [
      "              precision    recall  f1-score   support\n",
      "\n",
      "           0       0.62      0.71      0.67         7\n",
      "           1       0.00      0.00      0.00         3\n",
      "\n",
      "    accuracy                           0.50        10\n",
      "   macro avg       0.31      0.36      0.33        10\n",
      "weighted avg       0.44      0.50      0.47        10\n",
      "\n"
     ]
    }
   ],
   "source": [
    "# Print classification report\n",
    "print(classification_report(y_test, y_pred_svc))"
   ]
  }
 ],
 "metadata": {
  "kernelspec": {
   "display_name": "Python 3 (ipykernel)",
   "language": "python",
   "name": "python3"
  },
  "language_info": {
   "codemirror_mode": {
    "name": "ipython",
    "version": 3
   },
   "file_extension": ".py",
   "mimetype": "text/x-python",
   "name": "python",
   "nbconvert_exporter": "python",
   "pygments_lexer": "ipython3",
   "version": "3.7.13"
  }
 },
 "nbformat": 4,
 "nbformat_minor": 5
}
