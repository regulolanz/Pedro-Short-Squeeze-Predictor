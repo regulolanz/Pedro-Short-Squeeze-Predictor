{
 "cells": [
  {
   "cell_type": "markdown",
   "id": "d747d1a4-8886-4542-9a9b-7a688ce24204",
   "metadata": {
    "tags": []
   },
   "source": [
    "# Pedro - Short Queeze Predictor\n",
    "---"
   ]
  },
  {
   "cell_type": "markdown",
   "id": "c6b61898-777a-4387-a889-cdf838a3f7ed",
   "metadata": {},
   "source": [
    "### 1. Libraries Import"
   ]
  },
  {
   "cell_type": "code",
   "execution_count": 125,
   "id": "dc6fc2c9-97c4-4fd6-8bd8-2900aa31ee20",
   "metadata": {},
   "outputs": [],
   "source": [
    "import os\n",
    "import numpy as np\n",
    "import pandas as pd\n",
    "import yfinance as yf\n",
    "from pathlib import Path\n",
    "import matplotlib.pyplot as plt\n",
    "import pandas_market_calendars as mcal\n",
    "\n",
    "import xgboost as xgb\n",
    "import tensorflow as tf\n",
    "from sklearn.svm import SVC\n",
    "from imblearn.over_sampling import SMOTE\n",
    "from tensorflow.keras.layers import Dense\n",
    "from tensorflow.keras.models import Sequential\n",
    "from sklearn.tree import DecisionTreeClassifier\n",
    "from sklearn.metrics import classification_report\n",
    "from sklearn.ensemble import RandomForestClassifier\n",
    "from sklearn.model_selection import train_test_split\n",
    "from sklearn.ensemble import GradientBoostingClassifier\n",
    "from sklearn.preprocessing import StandardScaler,OneHotEncoder"
   ]
  },
  {
   "cell_type": "markdown",
   "id": "c1f87b9a-5895-41ac-8484-d83d60b3c992",
   "metadata": {},
   "source": [
    "### 2. Data Import"
   ]
  },
  {
   "cell_type": "code",
   "execution_count": 126,
   "id": "dc5c0e3a-b298-447d-8f98-e5da85bcb2ed",
   "metadata": {},
   "outputs": [],
   "source": [
    "# Read the ShortSqueezeData.csv file into a Pandas DataFrame\n",
    "merged_df = pd.read_csv(\n",
    "    Path(\"Resources/ShortSqueezeData.csv\"),\n",
    "    parse_dates=True,\n",
    "    infer_datetime_format=True\n",
    ")"
   ]
  },
  {
   "cell_type": "markdown",
   "id": "f70e87de-266f-4b86-ae79-976ac6671f48",
   "metadata": {},
   "source": [
    "### 3. Data Cleaning"
   ]
  },
  {
   "cell_type": "code",
   "execution_count": 127,
   "id": "241b9865-4d9d-49ba-96d8-a1314debbf90",
   "metadata": {},
   "outputs": [],
   "source": [
    "merged_df.drop_duplicates(subset=['Symbol', 'Short % of Float'], keep='first', inplace=True)"
   ]
  },
  {
   "cell_type": "code",
   "execution_count": 128,
   "id": "de9c341b-4c1a-4c0f-99be-5b5fbaa5413e",
   "metadata": {},
   "outputs": [
    {
     "data": {
      "text/html": [
       "<div>\n",
       "<style scoped>\n",
       "    .dataframe tbody tr th:only-of-type {\n",
       "        vertical-align: middle;\n",
       "    }\n",
       "\n",
       "    .dataframe tbody tr th {\n",
       "        vertical-align: top;\n",
       "    }\n",
       "\n",
       "    .dataframe thead th {\n",
       "        text-align: right;\n",
       "    }\n",
       "</style>\n",
       "<table border=\"1\" class=\"dataframe\">\n",
       "  <thead>\n",
       "    <tr style=\"text-align: right;\">\n",
       "      <th></th>\n",
       "      <th>Date</th>\n",
       "      <th>Symbol</th>\n",
       "      <th>Short % of Float</th>\n",
       "      <th>Total Amount</th>\n",
       "      <th>Market Cap</th>\n",
       "      <th>% Insider Ownership</th>\n",
       "      <th>% Institutional Ownership</th>\n",
       "      <th>Relation</th>\n",
       "      <th>Sector</th>\n",
       "      <th>Return (5 Days)</th>\n",
       "      <th>Return (7 Days)</th>\n",
       "      <th>Return (15 Days)</th>\n",
       "      <th>Return (30 Days)</th>\n",
       "      <th>Short Squeeze</th>\n",
       "    </tr>\n",
       "  </thead>\n",
       "  <tbody>\n",
       "    <tr>\n",
       "      <th>0</th>\n",
       "      <td>2022-08-19</td>\n",
       "      <td>ABCL</td>\n",
       "      <td>10.26</td>\n",
       "      <td>2292460.00</td>\n",
       "      <td>3.210520e+09</td>\n",
       "      <td>28.82</td>\n",
       "      <td>41.01</td>\n",
       "      <td>Large Shareholder</td>\n",
       "      <td>Healthcare</td>\n",
       "      <td>6.47</td>\n",
       "      <td>-7.08</td>\n",
       "      <td>-2.10</td>\n",
       "      <td>-13.55</td>\n",
       "      <td>0</td>\n",
       "    </tr>\n",
       "    <tr>\n",
       "      <th>1</th>\n",
       "      <td>2021-07-19</td>\n",
       "      <td>AFIB</td>\n",
       "      <td>12.34</td>\n",
       "      <td>9999990.00</td>\n",
       "      <td>4.334698e+08</td>\n",
       "      <td>2.26</td>\n",
       "      <td>88.83</td>\n",
       "      <td>Large Shareholder, Director</td>\n",
       "      <td>Healthcare</td>\n",
       "      <td>24.72</td>\n",
       "      <td>11.05</td>\n",
       "      <td>15.53</td>\n",
       "      <td>-0.30</td>\n",
       "      <td>1</td>\n",
       "    </tr>\n",
       "    <tr>\n",
       "      <th>2</th>\n",
       "      <td>2022-05-24</td>\n",
       "      <td>AHCO</td>\n",
       "      <td>12.52</td>\n",
       "      <td>1727230.00</td>\n",
       "      <td>2.269454e+09</td>\n",
       "      <td>27.42</td>\n",
       "      <td>61.25</td>\n",
       "      <td>Director</td>\n",
       "      <td>Healthcare</td>\n",
       "      <td>3.69</td>\n",
       "      <td>4.78</td>\n",
       "      <td>-0.58</td>\n",
       "      <td>11.01</td>\n",
       "      <td>0</td>\n",
       "    </tr>\n",
       "    <tr>\n",
       "      <th>3</th>\n",
       "      <td>2022-06-13</td>\n",
       "      <td>AHCO</td>\n",
       "      <td>10.25</td>\n",
       "      <td>1722010.00</td>\n",
       "      <td>2.490455e+09</td>\n",
       "      <td>27.42</td>\n",
       "      <td>61.25</td>\n",
       "      <td>Director</td>\n",
       "      <td>Healthcare</td>\n",
       "      <td>0.35</td>\n",
       "      <td>4.25</td>\n",
       "      <td>7.33</td>\n",
       "      <td>22.40</td>\n",
       "      <td>0</td>\n",
       "    </tr>\n",
       "    <tr>\n",
       "      <th>7</th>\n",
       "      <td>2022-06-17</td>\n",
       "      <td>AMEH</td>\n",
       "      <td>12.69</td>\n",
       "      <td>9250000.00</td>\n",
       "      <td>2.216500e+09</td>\n",
       "      <td>32.52</td>\n",
       "      <td>31.35</td>\n",
       "      <td>Large Shareholder</td>\n",
       "      <td>Healthcare</td>\n",
       "      <td>15.43</td>\n",
       "      <td>13.62</td>\n",
       "      <td>28.74</td>\n",
       "      <td>57.47</td>\n",
       "      <td>1</td>\n",
       "    </tr>\n",
       "    <tr>\n",
       "      <th>...</th>\n",
       "      <td>...</td>\n",
       "      <td>...</td>\n",
       "      <td>...</td>\n",
       "      <td>...</td>\n",
       "      <td>...</td>\n",
       "      <td>...</td>\n",
       "      <td>...</td>\n",
       "      <td>...</td>\n",
       "      <td>...</td>\n",
       "      <td>...</td>\n",
       "      <td>...</td>\n",
       "      <td>...</td>\n",
       "      <td>...</td>\n",
       "      <td>...</td>\n",
       "    </tr>\n",
       "    <tr>\n",
       "      <th>221</th>\n",
       "      <td>2023-01-23</td>\n",
       "      <td>TREE</td>\n",
       "      <td>10.05</td>\n",
       "      <td>1293440.96</td>\n",
       "      <td>4.272510e+08</td>\n",
       "      <td>15.11</td>\n",
       "      <td>83.84</td>\n",
       "      <td>Large Shareholder, Officer, Director</td>\n",
       "      <td>Financial Services</td>\n",
       "      <td>18.86</td>\n",
       "      <td>23.01</td>\n",
       "      <td>35.24</td>\n",
       "      <td>2.26</td>\n",
       "      <td>1</td>\n",
       "    </tr>\n",
       "    <tr>\n",
       "      <th>222</th>\n",
       "      <td>2022-03-04</td>\n",
       "      <td>TRIP</td>\n",
       "      <td>13.53</td>\n",
       "      <td>1036617.76</td>\n",
       "      <td>2.955059e+09</td>\n",
       "      <td>19.91</td>\n",
       "      <td>78.11</td>\n",
       "      <td>Director</td>\n",
       "      <td>Consumer Cyclical</td>\n",
       "      <td>11.31</td>\n",
       "      <td>9.96</td>\n",
       "      <td>21.59</td>\n",
       "      <td>24.33</td>\n",
       "      <td>1</td>\n",
       "    </tr>\n",
       "    <tr>\n",
       "      <th>223</th>\n",
       "      <td>2022-06-10</td>\n",
       "      <td>TUP</td>\n",
       "      <td>11.57</td>\n",
       "      <td>1031900.00</td>\n",
       "      <td>3.000068e+08</td>\n",
       "      <td>6.26</td>\n",
       "      <td>91.04</td>\n",
       "      <td>Officer, Director</td>\n",
       "      <td>Consumer Cyclical</td>\n",
       "      <td>3.06</td>\n",
       "      <td>11.61</td>\n",
       "      <td>8.06</td>\n",
       "      <td>12.26</td>\n",
       "      <td>1</td>\n",
       "    </tr>\n",
       "    <tr>\n",
       "      <th>224</th>\n",
       "      <td>2022-05-12</td>\n",
       "      <td>UWMC</td>\n",
       "      <td>24.79</td>\n",
       "      <td>1010056.36</td>\n",
       "      <td>3.990357e+08</td>\n",
       "      <td>0.20</td>\n",
       "      <td>26.88</td>\n",
       "      <td>Officer, Director</td>\n",
       "      <td>Financial Services</td>\n",
       "      <td>8.38</td>\n",
       "      <td>7.03</td>\n",
       "      <td>10.54</td>\n",
       "      <td>3.51</td>\n",
       "      <td>0</td>\n",
       "    </tr>\n",
       "    <tr>\n",
       "      <th>225</th>\n",
       "      <td>2021-11-22</td>\n",
       "      <td>VCTR</td>\n",
       "      <td>10.62</td>\n",
       "      <td>1017828.00</td>\n",
       "      <td>5.638365e+08</td>\n",
       "      <td>3.04</td>\n",
       "      <td>72.52</td>\n",
       "      <td>Officer</td>\n",
       "      <td>Financial Services</td>\n",
       "      <td>2.66</td>\n",
       "      <td>4.41</td>\n",
       "      <td>-1.02</td>\n",
       "      <td>5.67</td>\n",
       "      <td>0</td>\n",
       "    </tr>\n",
       "  </tbody>\n",
       "</table>\n",
       "<p>115 rows × 14 columns</p>\n",
       "</div>"
      ],
      "text/plain": [
       "           Date Symbol  Short % of Float  Total Amount    Market Cap  \\\n",
       "0    2022-08-19   ABCL             10.26    2292460.00  3.210520e+09   \n",
       "1    2021-07-19   AFIB             12.34    9999990.00  4.334698e+08   \n",
       "2    2022-05-24   AHCO             12.52    1727230.00  2.269454e+09   \n",
       "3    2022-06-13   AHCO             10.25    1722010.00  2.490455e+09   \n",
       "7    2022-06-17   AMEH             12.69    9250000.00  2.216500e+09   \n",
       "..          ...    ...               ...           ...           ...   \n",
       "221  2023-01-23   TREE             10.05    1293440.96  4.272510e+08   \n",
       "222  2022-03-04   TRIP             13.53    1036617.76  2.955059e+09   \n",
       "223  2022-06-10    TUP             11.57    1031900.00  3.000068e+08   \n",
       "224  2022-05-12   UWMC             24.79    1010056.36  3.990357e+08   \n",
       "225  2021-11-22   VCTR             10.62    1017828.00  5.638365e+08   \n",
       "\n",
       "     % Insider Ownership  % Institutional Ownership  \\\n",
       "0                  28.82                      41.01   \n",
       "1                   2.26                      88.83   \n",
       "2                  27.42                      61.25   \n",
       "3                  27.42                      61.25   \n",
       "7                  32.52                      31.35   \n",
       "..                   ...                        ...   \n",
       "221                15.11                      83.84   \n",
       "222                19.91                      78.11   \n",
       "223                 6.26                      91.04   \n",
       "224                 0.20                      26.88   \n",
       "225                 3.04                      72.52   \n",
       "\n",
       "                                 Relation              Sector  \\\n",
       "0                       Large Shareholder          Healthcare   \n",
       "1             Large Shareholder, Director          Healthcare   \n",
       "2                                Director          Healthcare   \n",
       "3                                Director          Healthcare   \n",
       "7                       Large Shareholder          Healthcare   \n",
       "..                                    ...                 ...   \n",
       "221  Large Shareholder, Officer, Director  Financial Services   \n",
       "222                              Director   Consumer Cyclical   \n",
       "223                     Officer, Director   Consumer Cyclical   \n",
       "224                     Officer, Director  Financial Services   \n",
       "225                               Officer  Financial Services   \n",
       "\n",
       "     Return (5 Days)  Return (7 Days)  Return (15 Days)  Return (30 Days)  \\\n",
       "0               6.47            -7.08             -2.10            -13.55   \n",
       "1              24.72            11.05             15.53             -0.30   \n",
       "2               3.69             4.78             -0.58             11.01   \n",
       "3               0.35             4.25              7.33             22.40   \n",
       "7              15.43            13.62             28.74             57.47   \n",
       "..               ...              ...               ...               ...   \n",
       "221            18.86            23.01             35.24              2.26   \n",
       "222            11.31             9.96             21.59             24.33   \n",
       "223             3.06            11.61              8.06             12.26   \n",
       "224             8.38             7.03             10.54              3.51   \n",
       "225             2.66             4.41             -1.02              5.67   \n",
       "\n",
       "     Short Squeeze  \n",
       "0                0  \n",
       "1                1  \n",
       "2                0  \n",
       "3                0  \n",
       "7                1  \n",
       "..             ...  \n",
       "221              1  \n",
       "222              1  \n",
       "223              1  \n",
       "224              0  \n",
       "225              0  \n",
       "\n",
       "[115 rows x 14 columns]"
      ]
     },
     "execution_count": 128,
     "metadata": {},
     "output_type": "execute_result"
    }
   ],
   "source": [
    "# Review the DataFrame\n",
    "merged_df"
   ]
  },
  {
   "cell_type": "code",
   "execution_count": 129,
   "id": "a810b253-6353-4c32-91d1-bb3410fe1083",
   "metadata": {},
   "outputs": [
    {
     "name": "stdout",
     "output_type": "stream",
     "text": [
      "Short Squeeze: 43\n",
      "Non Short Squeeze: 72\n"
     ]
    }
   ],
   "source": [
    "# Short Squeeze vs. Non Short Squeeze Counts in DataFrame\n",
    "short_squeeze_count = merged_df.loc[merged_df['Short Squeeze'] == 1, 'Short Squeeze'].count()\n",
    "no_short_squeeze_count = merged_df.loc[merged_df['Short Squeeze'] == 0, 'Short Squeeze'].count()\n",
    "\n",
    "print(\"Short Squeeze:\", short_squeeze_count)\n",
    "print(\"Non Short Squeeze:\", no_short_squeeze_count)"
   ]
  },
  {
   "cell_type": "markdown",
   "id": "375af6ff-e752-4ab8-9c5e-c9d0af0bbcb2",
   "metadata": {},
   "source": [
    "### 4. Data Visualization"
   ]
  },
  {
   "cell_type": "code",
   "execution_count": 130,
   "id": "179bdef4-ca41-4912-b9b8-e4453840f8b9",
   "metadata": {},
   "outputs": [
    {
     "data": {
      "text/plain": [
       "<Figure size 1000x600 with 0 Axes>"
      ]
     },
     "metadata": {},
     "output_type": "display_data"
    },
    {
     "data": {
      "image/png": "[encoded data removed]",
      "text/plain": [
       "<Figure size 640x480 with 1 Axes>"
      ]
     },
     "metadata": {},
     "output_type": "display_data"
    }
   ],
   "source": [
    "# Visualization by Sector\n",
    "plt.figure(figsize=(10, 6))\n",
    "grouped_df = merged_df.groupby('Sector')['Short Squeeze'].sum().reset_index()\n",
    "grouped_df.plot(x='Sector', y='Short Squeeze', kind='bar')\n",
    "plt.title('Short Squeeze by Sector')\n",
    "plt.xlabel('Sector')\n",
    "plt.ylabel('Count')\n",
    "plt.xticks(rotation=45)\n",
    "plt.show()"
   ]
  },
  {
   "cell_type": "code",
   "execution_count": 131,
   "id": "4c654dd1-5602-4d05-94d3-adb6e616a042",
   "metadata": {},
   "outputs": [
    {
     "data": {
      "text/plain": [
       "<Figure size 800x600 with 0 Axes>"
      ]
     },
     "metadata": {},
     "output_type": "display_data"
    },
    {
     "data": {
      "image/png": "[encoded data removed]",
      "text/plain": [
       "<Figure size 640x480 with 1 Axes>"
      ]
     },
     "metadata": {},
     "output_type": "display_data"
    }
   ],
   "source": [
    "# Visualization by Year\n",
    "merged_df['Year'] = pd.to_datetime(merged_df['Date']).dt.year\n",
    "plt.figure(figsize=(8, 6))\n",
    "grouped_df = merged_df.groupby('Year')['Short Squeeze'].sum().reset_index()\n",
    "grouped_df.plot(x='Year', y='Short Squeeze', kind='bar')\n",
    "plt.title('Short Squeeze by Year')\n",
    "plt.xlabel('Year')\n",
    "plt.ylabel('Count')\n",
    "plt.xticks(rotation=0)\n",
    "plt.show()"
   ]
  },
  {
   "cell_type": "markdown",
   "id": "a70ee5d7-336c-4eac-883a-cfb9264e395e",
   "metadata": {},
   "source": [
    "### 5. One Hot Encoding"
   ]
  },
  {
   "cell_type": "code",
   "execution_count": 132,
   "id": "90ffbefb-b2d0-4945-ac33-8ed06d5430e0",
   "metadata": {},
   "outputs": [],
   "source": [
    "def one_hot_encode(df):\n",
    "    encoder = OneHotEncoder(sparse=False)\n",
    "    categorical_variables = ['Sector', 'Relation']\n",
    "    encoded_data = encoder.fit_transform(df[categorical_variables])\n",
    "    encoded_df = pd.DataFrame(encoded_data, columns=encoder.get_feature_names_out(categorical_variables))\n",
    "    encoded_df.index = df.index \n",
    "    numerical_df = df.drop(columns=categorical_variables, axis=1)\n",
    "    return pd.concat([numerical_df, encoded_df], axis=1)"
   ]
  },
  {
   "cell_type": "code",
   "execution_count": 133,
   "id": "6244d34b-2520-403e-abf8-b922146f798f",
   "metadata": {},
   "outputs": [],
   "source": [
    "# One hot encode the data\n",
    "merged_df = one_hot_encode(merged_df)"
   ]
  },
  {
   "cell_type": "markdown",
   "id": "2a30bdda-3b7e-4442-87c2-2a25df929b38",
   "metadata": {},
   "source": [
    "### 6. Train-Test Split"
   ]
  },
  {
   "cell_type": "code",
   "execution_count": 134,
   "id": "14f3482b-a1de-49ec-832d-3d26a3ff83c2",
   "metadata": {},
   "outputs": [],
   "source": [
    "# Drop the 'Short Squeeze', 'Symbol' and 'Date' columns for features\n",
    "X = merged_df.drop(columns=['Short Squeeze', 'Symbol', 'Date', 'Return (5 Days)', 'Return (7 Days)', 'Return (15 Days)', 'Return (30 Days)'])\n",
    "y = merged_df['Short Squeeze']\n",
    "\n",
    "# split the dataset into training set and test set\n",
    "X_train, X_test, y_train, y_test = train_test_split(X, y, test_size=0.2, random_state=42)"
   ]
  },
  {
   "cell_type": "markdown",
   "id": "1e97530b-412e-42b3-b7d9-70cec7721374",
   "metadata": {},
   "source": [
    "### 7. Data Normalization"
   ]
  },
  {
   "cell_type": "code",
   "execution_count": 135,
   "id": "f22b3632-5e3e-4876-9797-c4094b7a5339",
   "metadata": {},
   "outputs": [],
   "source": [
    "# Scale the numerical features\n",
    "scaler = StandardScaler()\n",
    "X_train_scaled = scaler.fit_transform(X_train)\n",
    "X_test_scaled = scaler.transform(X_test)"
   ]
  },
  {
   "cell_type": "markdown",
   "id": "bfc6387c-dc72-4bc8-bb05-8c2ccfc0fb2e",
   "metadata": {},
   "source": [
    "### 8. Class Balancing"
   ]
  },
  {
   "cell_type": "markdown",
   "id": "f5288682-5ebd-4099-ae57-19419418e00d",
   "metadata": {},
   "source": [
    "#### Synthetic Minority Over-sampling Technique (SMOTE)"
   ]
  },
  {
   "cell_type": "code",
   "execution_count": 136,
   "id": "471fc01c-b88b-4c41-9718-47d8978cc8b4",
   "metadata": {},
   "outputs": [
    {
     "name": "stdout",
     "output_type": "stream",
     "text": [
      "0    55\n",
      "1    55\n",
      "Name: Short Squeeze, dtype: int64\n"
     ]
    }
   ],
   "source": [
    "# Create a SMOTE object\n",
    "smote = SMOTE()\n",
    "\n",
    "# Resample the training data\n",
    "X_train_resampled, y_train_resampled = smote.fit_resample(X_train_scaled, y_train)\n",
    "\n",
    "# Print the class counts\n",
    "print(pd.Series(y_train_resampled).value_counts())"
   ]
  },
  {
   "cell_type": "code",
   "execution_count": 137,
   "id": "4dbc0e89-031a-41c7-bb23-330f1f2ce245",
   "metadata": {},
   "outputs": [],
   "source": [
    "# Function for training and evaluating a model\n",
    "def train_and_evaluate_model(model, X_train, y_train, X_test, y_test):\n",
    "    # Check if the model is a Neural Network model\n",
    "    if isinstance(model, Sequential):\n",
    "        # Reshape target arrays\n",
    "        y_train = np.array(y_train).reshape(-1, 1)\n",
    "        y_test = np.array(y_test).reshape(-1, 1)\n",
    "\n",
    "        # Train the model\n",
    "        model.fit(X_train, y_train, epochs=50, verbose=0)\n",
    "\n",
    "        # Make predictions\n",
    "        y_pred = (model.predict(X_test) > 0.5).astype(\"int32\")\n",
    "        model_name = \"\\033[1mNeural Network\\033[0m\"\n",
    "    else:\n",
    "        model.fit(X_train, y_train)\n",
    "        y_pred = model.predict(X_test)\n",
    "        model_name = \"\\033[1m\" + type(model).__name__ + \"\\033[0m\"  # gets the name of the model and adds bold formatting\n",
    "        \n",
    "    print(f\"Classification Report for {model_name}:\")\n",
    "    print(classification_report(y_test, y_pred))"
   ]
  },
  {
   "cell_type": "markdown",
   "id": "31e062cc-6e97-4799-be84-6a4c11371305",
   "metadata": {},
   "source": [
    "### 9. Model Training"
   ]
  },
  {
   "cell_type": "code",
   "execution_count": 138,
   "id": "08a2e3b9-aa74-4311-8f22-5067dc57cf65",
   "metadata": {},
   "outputs": [],
   "source": [
    "# Neural Network model\n",
    "model_nn = Sequential()\n",
    "model_nn.add(Dense(32, input_dim=X_train_resampled.shape[1], activation='relu'))\n",
    "model_nn.add(Dense(16, activation='relu'))\n",
    "model_nn.add(Dense(1, activation='sigmoid'))  \n",
    "model_nn.compile(loss='binary_crossentropy',  \n",
    "              optimizer='adam',\n",
    "              metrics=['accuracy'])\n",
    "\n",
    "models = [\n",
    "    GradientBoostingClassifier(random_state=42),\n",
    "    SVC(random_state=42),\n",
    "    RandomForestClassifier(random_state=42),\n",
    "    DecisionTreeClassifier(random_state=0),\n",
    "    xgb.XGBClassifier(),\n",
    "    model_nn\n",
    "]"
   ]
  },
  {
   "cell_type": "code",
   "execution_count": 139,
   "id": "cd113839-df1f-4547-b19c-a8451713f5f1",
   "metadata": {},
   "outputs": [
    {
     "name": "stdout",
     "output_type": "stream",
     "text": [
      "Classification Report for \u001b[1mGradientBoostingClassifier\u001b[0m:\n",
      "              precision    recall  f1-score   support\n",
      "\n",
      "           0       0.79      0.65      0.71        17\n",
      "           1       0.33      0.50      0.40         6\n",
      "\n",
      "    accuracy                           0.61        23\n",
      "   macro avg       0.56      0.57      0.55        23\n",
      "weighted avg       0.67      0.61      0.63        23\n",
      "\n",
      "Classification Report for \u001b[1mSVC\u001b[0m:\n",
      "              precision    recall  f1-score   support\n",
      "\n",
      "           0       0.82      0.53      0.64        17\n",
      "           1       0.33      0.67      0.44         6\n",
      "\n",
      "    accuracy                           0.57        23\n",
      "   macro avg       0.58      0.60      0.54        23\n",
      "weighted avg       0.69      0.57      0.59        23\n",
      "\n",
      "Classification Report for \u001b[1mRandomForestClassifier\u001b[0m:\n",
      "              precision    recall  f1-score   support\n",
      "\n",
      "           0       0.91      0.59      0.71        17\n",
      "           1       0.42      0.83      0.56         6\n",
      "\n",
      "    accuracy                           0.65        23\n",
      "   macro avg       0.66      0.71      0.63        23\n",
      "weighted avg       0.78      0.65      0.67        23\n",
      "\n",
      "Classification Report for \u001b[1mDecisionTreeClassifier\u001b[0m:\n",
      "              precision    recall  f1-score   support\n",
      "\n",
      "           0       0.88      0.41      0.56        17\n",
      "           1       0.33      0.83      0.48         6\n",
      "\n",
      "    accuracy                           0.52        23\n",
      "   macro avg       0.60      0.62      0.52        23\n",
      "weighted avg       0.73      0.52      0.54        23\n",
      "\n",
      "Classification Report for \u001b[1mXGBClassifier\u001b[0m:\n",
      "              precision    recall  f1-score   support\n",
      "\n",
      "           0       0.85      0.65      0.73        17\n",
      "           1       0.40      0.67      0.50         6\n",
      "\n",
      "    accuracy                           0.65        23\n",
      "   macro avg       0.62      0.66      0.62        23\n",
      "weighted avg       0.73      0.65      0.67        23\n",
      "\n",
      "1/1 [==============================] - 0s 36ms/step\n",
      "Classification Report for \u001b[1mNeural Network\u001b[0m:\n",
      "              precision    recall  f1-score   support\n",
      "\n",
      "           0       0.69      0.53      0.60        17\n",
      "           1       0.20      0.33      0.25         6\n",
      "\n",
      "    accuracy                           0.48        23\n",
      "   macro avg       0.45      0.43      0.42        23\n",
      "weighted avg       0.56      0.48      0.51        23\n",
      "\n"
     ]
    }
   ],
   "source": [
    "for model in models:\n",
    "    train_and_evaluate_model(model, X_train_resampled, y_train_resampled, X_test_scaled, y_test)"
   ]
  },
  {
   "cell_type": "code",
   "execution_count": null,
   "id": "61ad5ae9-63c1-4a43-b044-1c6f91b8147a",
   "metadata": {},
   "outputs": [],
   "source": []
  }
 ],
 "metadata": {
  "kernelspec": {
   "display_name": "Python 3 (ipykernel)",
   "language": "python",
   "name": "python3"
  },
  "language_info": {
   "codemirror_mode": {
    "name": "ipython",
    "version": 3
   },
   "file_extension": ".py",
   "mimetype": "text/x-python",
   "name": "python",
   "nbconvert_exporter": "python",
   "pygments_lexer": "ipython3",
   "version": "3.7.13"
  }
 },
 "nbformat": 4,
 "nbformat_minor": 5
}
