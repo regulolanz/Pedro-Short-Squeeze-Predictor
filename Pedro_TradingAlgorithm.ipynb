{
 "cells": [
  {
   "cell_type": "markdown",
   "id": "90226339-2635-4900-8b2d-4493ddfa8b32",
   "metadata": {},
   "source": [
    "# Pedro - Short Queeze Predictor\n",
    "---"
   ]
  },
  {
   "cell_type": "markdown",
   "id": "05e14a3b-aea3-4fe7-8f9c-a064d2f5cb0c",
   "metadata": {},
   "source": [
    "### 1. Libraries Import"
   ]
  },
  {
   "cell_type": "code",
   "execution_count": null,
   "id": "c9b9b99c-97af-487e-9ec8-e3f9dabc4c37",
   "metadata": {},
   "outputs": [],
   "source": [
    "import os\n",
    "import joblib\n",
    "import numpy as np\n",
    "import pandas as pd\n",
    "from pathlib import Path\n",
    "from dotenv import load_dotenv\n",
    "import alpaca_trade_api as tradeapi\n",
    "\n",
    "import xgboost as xgb\n",
    "import tensorflow as tf\n",
    "from sklearn.preprocessing import StandardScaler, OneHotEncoder\n",
    "from sklearn.svm import SVC\n",
    "from sklearn.tree import DecisionTreeClassifier\n",
    "from sklearn.ensemble import RandomForestClassifier\n",
    "from sklearn.ensemble import GradientBoostingClassifier\n",
    "from tensorflow.keras.models import load_model"
   ]
  },
  {
   "cell_type": "markdown",
   "id": "a0ffc9dd-9527-4215-8790-b8721ef281d0",
   "metadata": {},
   "source": [
    "### 2. Alpaca API Setup"
   ]
  },
  {
   "cell_type": "code",
   "execution_count": null,
   "id": "a092e9bf-9595-425e-9f9b-5f80e5139295",
   "metadata": {},
   "outputs": [],
   "source": [
    "def create_alpaca_api():\n",
    "    load_dotenv(dotenv_path=\"Alpaca.env\")\n",
    "\n",
    "    alpaca_api_key = os.getenv(\"ALPACA_API_KEY\")\n",
    "    alpaca_secret_key = os.getenv(\"ALPACA_SECRET_KEY\")\n",
    "    alpaca_api_base_url = \"https://paper-api.alpaca.markets\"\n",
    "\n",
    "    api = tradeapi.REST(\n",
    "        alpaca_api_key,\n",
    "        alpaca_secret_key,\n",
    "        alpaca_api_base_url,\n",
    "        api_version=\"v2\"\n",
    "    )\n",
    "\n",
    "    return api"
   ]
  },
  {
   "cell_type": "code",
   "execution_count": null,
   "id": "1d278736-a4a1-466b-9f41-fd2ec1d8ec40",
   "metadata": {},
   "outputs": [],
   "source": [
    "api = create_alpaca_api()"
   ]
  },
  {
   "cell_type": "code",
   "execution_count": null,
   "id": "0e7f835f-6c45-46d0-a637-ac0528ba2542",
   "metadata": {},
   "outputs": [],
   "source": [
    "# Get account information\n",
    "account = api.get_account()\n",
    "\n",
    "# Check if our account is restricted from trading.\n",
    "if account.trading_blocked:\n",
    "    print('Account is currently restricted from trading.')\n",
    "\n",
    "# Print our current balance.\n",
    "print('${} is available as buying power.'.format(account.buying_power))"
   ]
  },
  {
   "cell_type": "markdown",
   "id": "0d6004cc-4da7-45d2-967e-7fda4e17d80a",
   "metadata": {},
   "source": [
    "### 3. Load Models"
   ]
  },
  {
   "cell_type": "code",
   "execution_count": null,
   "id": "570d0386-5906-4df1-a487-86a84d8e8077",
   "metadata": {},
   "outputs": [],
   "source": [
    "def load_models(model_names, folder_path='Models'):\n",
    "    \"\"\"\n",
    "    Loads trained models based on the given model names from the specified folder.\n",
    "    \"\"\"\n",
    "    models = {}\n",
    "    for name in model_names:\n",
    "        # Load each model from its file in the 'Models' folder\n",
    "        if name == \"Neural_Network\":\n",
    "            models[name] = load_model(os.path.join(folder_path, f\"{name.replace(' ', '_')}.h5\"))\n",
    "        else:\n",
    "            models[name] = joblib.load(os.path.join(folder_path, f\"{name.replace(' ', '_')}.joblib\"))\n",
    "        \n",
    "    return models\n",
    "\n",
    "print(\"Function 'load_models' defined.\")"
   ]
  },
  {
   "cell_type": "code",
   "execution_count": null,
   "id": "4b0b0a64-15a9-4708-a18c-486f01645d16",
   "metadata": {},
   "outputs": [],
   "source": [
    "# Load models\n",
    "model_names = [\"Gradient_Boosting_Classifier\", \"Support_Vector_Classifier\", \n",
    "               \"Random_Forest_Classifier\", \"Decision_Tree_Classifier\", \n",
    "               \"XGBoost_Classifier\", \"Neural_Network\"]\n",
    "\n",
    "models = load_models(model_names)"
   ]
  },
  {
   "cell_type": "markdown",
   "id": "b169fe26-f2b8-46e1-8a6c-29c2c4b99791",
   "metadata": {},
   "source": [
    "### 4. Load New Data"
   ]
  },
  {
   "cell_type": "code",
   "execution_count": null,
   "id": "046aff84-5bf9-4f7f-8cbc-ea58e0b1b285",
   "metadata": {},
   "outputs": [],
   "source": [
    "new_data = new_data = pd.read_csv(\n",
    "    Path(\"Resources/NewData.csv\"), #We dont have the NewData (Live Data)\n",
    "    parse_dates=True,\n",
    "    infer_datetime_format=True\n",
    ")"
   ]
  },
  {
   "cell_type": "code",
   "execution_count": null,
   "id": "c49249c0-4811-43d7-98bb-c495d8c01929",
   "metadata": {},
   "outputs": [],
   "source": [
    "new_data.head()"
   ]
  },
  {
   "cell_type": "markdown",
   "id": "6272ea67-5ed9-4afb-929e-6fc37c21a611",
   "metadata": {},
   "source": [
    "### 5. Preprocess the New Data"
   ]
  },
  {
   "cell_type": "code",
   "execution_count": null,
   "id": "af411974-0024-452a-ba37-f965d89be67d",
   "metadata": {},
   "outputs": [],
   "source": [
    "# Load the StandardScaler and OneHotEncoder\n",
    "scaler = joblib.load('Models/scaler.joblib') \n",
    "encoder = joblib.load('Models/encoder.joblib')"
   ]
  },
  {
   "cell_type": "code",
   "execution_count": null,
   "id": "d9f729b7-d5b6-4bea-a153-0666c931f6e5",
   "metadata": {},
   "outputs": [],
   "source": [
    "# Define numerical and categorical features\n",
    "numerical_features = ['Short % of Float', 'Market Cap', '% from 50 day MA']  # replace with your actual numerical features\n",
    "categorical_features = ['Sector'] # replace with your actual categorical features"
   ]
  },
  {
   "cell_type": "code",
   "execution_count": null,
   "id": "eead403a-4fea-49bf-9663-680d3afd397d",
   "metadata": {},
   "outputs": [],
   "source": [
    "# Apply StandardScaler to the numerical columns of new_data\n",
    "new_data[numerical_features] = scaler.transform(new_data[numerical_features])"
   ]
  },
  {
   "cell_type": "code",
   "execution_count": null,
   "id": "f82ade26-47bf-440c-b7cd-8e3f4840aee4",
   "metadata": {},
   "outputs": [],
   "source": [
    "# Apply OneHotEncoder to the categorical columns of new_data\n",
    "encoded_data = encoder.transform(new_data[categorical_features])\n",
    "encoded_df = pd.DataFrame(encoded_data, columns=encoder.get_feature_names_out(categorical_features), index=new_data.index)\n",
    "numerical_df = new_data.drop(columns=categorical_features, axis=1)"
   ]
  },
  {
   "cell_type": "code",
   "execution_count": null,
   "id": "3f00ae2f-7dfe-412e-8d21-e81124f16f63",
   "metadata": {},
   "outputs": [],
   "source": [
    "# Combine the numerical and encoded categorical data\n",
    "encoded_new_data = pd.concat([numerical_df, encoded_df], axis=1)"
   ]
  },
  {
   "cell_type": "code",
   "execution_count": null,
   "id": "f129bd11-cdbf-4612-9d32-82706d8c237e",
   "metadata": {},
   "outputs": [],
   "source": []
  },
  {
   "cell_type": "code",
   "execution_count": null,
   "id": "2151de6e-9264-45bd-a10c-56aa4ce29cdb",
   "metadata": {},
   "outputs": [],
   "source": []
  },
  {
   "cell_type": "code",
   "execution_count": null,
   "id": "29574f91-89f7-49d6-b1e4-a75e03d5bb9d",
   "metadata": {},
   "outputs": [],
   "source": []
  },
  {
   "cell_type": "code",
   "execution_count": null,
   "id": "c86d5048-2d0e-44cb-8379-a17ed8b4a0b8",
   "metadata": {},
   "outputs": [],
   "source": []
  },
  {
   "cell_type": "code",
   "execution_count": null,
   "id": "e398eabe-2a55-46ee-b988-6d6c821d9996",
   "metadata": {},
   "outputs": [],
   "source": []
  },
  {
   "cell_type": "code",
   "execution_count": null,
   "id": "c272aab8-a1f7-4669-9a6b-eaa7ae5df23c",
   "metadata": {},
   "outputs": [],
   "source": []
  },
  {
   "cell_type": "code",
   "execution_count": null,
   "id": "7fe5b9c0-ac3b-498f-9bd4-3180ad97dc8d",
   "metadata": {},
   "outputs": [],
   "source": []
  },
  {
   "cell_type": "code",
   "execution_count": null,
   "id": "13287751-470d-4ff3-abf8-162f24d16a0c",
   "metadata": {},
   "outputs": [],
   "source": []
  },
  {
   "cell_type": "code",
   "execution_count": null,
   "id": "4ab20c08-ffb3-4b46-b6c4-2e2d01850aec",
   "metadata": {},
   "outputs": [],
   "source": []
  },
  {
   "cell_type": "code",
   "execution_count": null,
   "id": "87c033c9-5401-4fb8-a8bf-a9e287a1a83f",
   "metadata": {},
   "outputs": [],
   "source": []
  },
  {
   "cell_type": "code",
   "execution_count": null,
   "id": "6b337cbc-deb0-489b-bc75-3808b689618f",
   "metadata": {},
   "outputs": [],
   "source": []
  },
  {
   "cell_type": "code",
   "execution_count": null,
   "id": "afe41298-bcec-4efe-a1d2-c55aefdacf37",
   "metadata": {},
   "outputs": [],
   "source": [
    "# Set signal variable\n",
    "signal = 1"
   ]
  },
  {
   "cell_type": "code",
   "execution_count": null,
   "id": "cae4a871-2edd-4c30-a5ef-193e767cea8e",
   "metadata": {},
   "outputs": [],
   "source": [
    "# Create buy signal, num shares and ticker\n",
    "if signal == 1:\n",
    "    orderSide = \"buy\"\n",
    "else:\n",
    "    orderSide = \"sell\""
   ]
  },
  {
   "cell_type": "code",
   "execution_count": null,
   "id": "e3dd26eb-5092-43f0-b577-69611623b35c",
   "metadata": {},
   "outputs": [],
   "source": [
    "# Set the ticket symbol and the number of shares to buy\n",
    "ticker = \"TSLA\"\n",
    "number_of_shares = 1"
   ]
  },
  {
   "cell_type": "code",
   "execution_count": null,
   "id": "0f716e6e-5c58-4703-85d8-509a185f01a8",
   "metadata": {},
   "outputs": [],
   "source": [
    "# Make API call\n",
    "prices = api.get_bars(ticker, \"1Min\").df\n",
    "\n",
    "# Reorganize the DataFrame\n",
    "prices = pd.concat([prices], axis=1, keys=[\"TSLA\"])\n",
    "\n",
    "# Get final closing price\n",
    "limit_amount = prices[\"TSLA\"][\"close\"][-1]"
   ]
  },
  {
   "cell_type": "code",
   "execution_count": null,
   "id": "ba07b0c9-1ec5-4845-aad7-f3a959d706d3",
   "metadata": {},
   "outputs": [],
   "source": [
    "# Submit order\n",
    "api.submit_order(\n",
    "    symbol=\"TSLA\", \n",
    "    qty=number_of_shares, \n",
    "    side=orderSide, \n",
    "    time_in_force=\"gtc\", \n",
    "    type=\"limit\", \n",
    "    limit_price=limit_amount\n",
    ")"
   ]
  }
 ],
 "metadata": {
  "kernelspec": {
   "display_name": "Python 3 (ipykernel)",
   "language": "python",
   "name": "python3"
  },
  "language_info": {
   "codemirror_mode": {
    "name": "ipython",
    "version": 3
   },
   "file_extension": ".py",
   "mimetype": "text/x-python",
   "name": "python",
   "nbconvert_exporter": "python",
   "pygments_lexer": "ipython3",
   "version": "3.7.13"
  }
 },
 "nbformat": 4,
 "nbformat_minor": 5
}
