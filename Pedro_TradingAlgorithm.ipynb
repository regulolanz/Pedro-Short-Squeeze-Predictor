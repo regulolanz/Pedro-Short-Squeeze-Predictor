{
 "cells": [
  {
   "cell_type": "markdown",
   "id": "90226339-2635-4900-8b2d-4493ddfa8b32",
   "metadata": {},
   "source": [
    "# Pedro - Short Queeze Predictor\n",
    "---"
   ]
  },
  {
   "cell_type": "markdown",
   "id": "05e14a3b-aea3-4fe7-8f9c-a064d2f5cb0c",
   "metadata": {},
   "source": [
    "### 1. Libraries Import"
   ]
  },
  {
   "cell_type": "code",
   "execution_count": 6,
   "id": "c9b9b99c-97af-487e-9ec8-e3f9dabc4c37",
   "metadata": {},
   "outputs": [],
   "source": [
    "import os\n",
    "import joblib\n",
    "import numpy as np\n",
    "import pandas as pd\n",
    "from pathlib import Path\n",
    "from dotenv import load_dotenv\n",
    "import alpaca_trade_api as tradeapi\n",
    "\n",
    "import xgboost as xgb\n",
    "import tensorflow as tf\n",
    "from sklearn.preprocessing import StandardScaler, OneHotEncoder\n",
    "from sklearn.svm import SVC\n",
    "from sklearn.tree import DecisionTreeClassifier\n",
    "from sklearn.ensemble import RandomForestClassifier\n",
    "from sklearn.ensemble import GradientBoostingClassifier"
   ]
  },
  {
   "cell_type": "markdown",
   "id": "a0ffc9dd-9527-4215-8790-b8721ef281d0",
   "metadata": {},
   "source": [
    "### 2. Alpaca API Setup"
   ]
  },
  {
   "cell_type": "code",
   "execution_count": 7,
   "id": "a092e9bf-9595-425e-9f9b-5f80e5139295",
   "metadata": {},
   "outputs": [],
   "source": [
    "def create_alpaca_api():\n",
    "    load_dotenv(dotenv_path=\"Alpaca.env\")\n",
    "\n",
    "    alpaca_api_key = os.getenv(\"ALPACA_API_KEY\")\n",
    "    alpaca_secret_key = os.getenv(\"ALPACA_SECRET_KEY\")\n",
    "    alpaca_api_base_url = \"https://paper-api.alpaca.markets\"\n",
    "\n",
    "    api = tradeapi.REST(\n",
    "        alpaca_api_key,\n",
    "        alpaca_secret_key,\n",
    "        alpaca_api_base_url,\n",
    "        api_version=\"v2\"\n",
    "    )\n",
    "\n",
    "    return api"
   ]
  },
  {
   "cell_type": "code",
   "execution_count": 8,
   "id": "1d278736-a4a1-466b-9f41-fd2ec1d8ec40",
   "metadata": {},
   "outputs": [],
   "source": [
    "api = create_alpaca_api()"
   ]
  },
  {
   "cell_type": "code",
   "execution_count": 9,
   "id": "0e7f835f-6c45-46d0-a637-ac0528ba2542",
   "metadata": {},
   "outputs": [
    {
     "name": "stdout",
     "output_type": "stream",
     "text": [
      "$200000 is available as buying power.\n"
     ]
    }
   ],
   "source": [
    "# Get account information\n",
    "account = api.get_account()\n",
    "\n",
    "# Check if our account is restricted from trading.\n",
    "if account.trading_blocked:\n",
    "    print('Account is currently restricted from trading.')\n",
    "\n",
    "# Print our current balance.\n",
    "print('${} is available as buying power.'.format(account.buying_power))"
   ]
  },
  {
   "cell_type": "markdown",
   "id": "0d6004cc-4da7-45d2-967e-7fda4e17d80a",
   "metadata": {},
   "source": [
    "### 3. Load Models"
   ]
  },
  {
   "cell_type": "code",
   "execution_count": 10,
   "id": "570d0386-5906-4df1-a487-86a84d8e8077",
   "metadata": {},
   "outputs": [
    {
     "name": "stdout",
     "output_type": "stream",
     "text": [
      "Function 'load_models' defined.\n"
     ]
    }
   ],
   "source": [
    "def load_models(model_names, folder_path='Models'):\n",
    "    \"\"\"\n",
    "    Loads trained models based on the given model names from the specified folder.\n",
    "    \"\"\"\n",
    "    models = {}\n",
    "    for name in model_names:\n",
    "        # Load each model from its file in the 'Models' folder\n",
    "        models[name] = joblib.load(os.path.join(folder_path, f\"{name.replace(' ', '_')}.joblib\"))\n",
    "        \n",
    "    return models\n",
    "\n",
    "print(\"Function 'load_models' defined.\")"
   ]
  },
  {
   "cell_type": "code",
   "execution_count": 11,
   "id": "4b0b0a64-15a9-4708-a18c-486f01645d16",
   "metadata": {},
   "outputs": [
    {
     "name": "stdout",
     "output_type": "stream",
     "text": [
      "Keras model archive loading:\n",
      "File Name                                             Modified             Size\n",
      "config.json                                    2023-07-13 12:10:00         1835\n",
      "metadata.json                                  2023-07-13 12:10:00           64\n",
      "variables.h5                                   2023-07-13 12:10:00        36264\n",
      "Keras weights file (<HDF5 file \"variables.h5\" (mode r)>) loading:\n",
      "...layers\n",
      "......dense\n",
      ".........vars\n",
      "............0\n",
      "............1\n",
      "......dense_1\n",
      ".........vars\n",
      "............0\n",
      "............1\n",
      "......dense_2\n",
      ".........vars\n",
      "............0\n",
      "............1\n",
      "...metrics\n",
      "......mean\n",
      ".........vars\n",
      "............0\n",
      "............1\n",
      "......mean_metric_wrapper\n",
      ".........vars\n",
      "............0\n",
      "............1\n",
      "...optimizer\n",
      "......vars\n",
      ".........0\n",
      ".........1\n",
      ".........10\n",
      ".........11\n",
      ".........12\n",
      ".........2\n",
      ".........3\n",
      ".........4\n",
      ".........5\n",
      ".........6\n",
      ".........7\n",
      ".........8\n",
      ".........9\n",
      "...vars\n"
     ]
    }
   ],
   "source": [
    "# Load models\n",
    "model_names = [\"Gradient_Boosting_Classifier\", \"Support_Vector_Classifier\", \n",
    "               \"Random_Forest_Classifier\", \"Decision_Tree_Classifier\", \n",
    "               \"XGBoost_Classifier\", \"Neural_Network\"]\n",
    "\n",
    "models = load_models(model_names)"
   ]
  },
  {
   "cell_type": "code",
   "execution_count": null,
   "id": "b3a4aa7c-e9f3-47ae-a404-016a118914ef",
   "metadata": {},
   "outputs": [],
   "source": []
  },
  {
   "cell_type": "code",
   "execution_count": null,
   "id": "12e2ffaf-4b8f-4907-9862-64e6ef01eda4",
   "metadata": {},
   "outputs": [],
   "source": []
  },
  {
   "cell_type": "code",
   "execution_count": null,
   "id": "2e093560-9783-485e-881c-e38e9c174a87",
   "metadata": {},
   "outputs": [],
   "source": []
  },
  {
   "cell_type": "code",
   "execution_count": null,
   "id": "9d60a163-631d-4a3c-b4dc-8ba1b9b9be7b",
   "metadata": {},
   "outputs": [],
   "source": []
  },
  {
   "cell_type": "code",
   "execution_count": null,
   "id": "139ffafb-6923-4d34-9b9f-a4853fb49092",
   "metadata": {},
   "outputs": [],
   "source": []
  },
  {
   "cell_type": "code",
   "execution_count": null,
   "id": "afe41298-bcec-4efe-a1d2-c55aefdacf37",
   "metadata": {},
   "outputs": [],
   "source": [
    "# Set signal variable\n",
    "signal = 1"
   ]
  },
  {
   "cell_type": "code",
   "execution_count": null,
   "id": "cae4a871-2edd-4c30-a5ef-193e767cea8e",
   "metadata": {},
   "outputs": [],
   "source": [
    "# Create buy signal, num shares and ticker\n",
    "if signal == 1:\n",
    "    orderSide = \"buy\"\n",
    "else:\n",
    "    orderSide = \"sell\""
   ]
  },
  {
   "cell_type": "code",
   "execution_count": null,
   "id": "e3dd26eb-5092-43f0-b577-69611623b35c",
   "metadata": {},
   "outputs": [],
   "source": [
    "# Set the ticket symbol and the number of shares to buy\n",
    "ticker = \"TSLA\"\n",
    "number_of_shares = 1"
   ]
  },
  {
   "cell_type": "code",
   "execution_count": null,
   "id": "0f716e6e-5c58-4703-85d8-509a185f01a8",
   "metadata": {},
   "outputs": [],
   "source": [
    "# Make API call\n",
    "prices = api.get_bars(ticker, \"1Min\").df\n",
    "\n",
    "# Reorganize the DataFrame\n",
    "prices = pd.concat([prices], axis=1, keys=[\"TSLA\"])\n",
    "\n",
    "# Get final closing price\n",
    "limit_amount = prices[\"TSLA\"][\"close\"][-1]"
   ]
  },
  {
   "cell_type": "code",
   "execution_count": null,
   "id": "ba07b0c9-1ec5-4845-aad7-f3a959d706d3",
   "metadata": {},
   "outputs": [],
   "source": [
    "# Submit order\n",
    "api.submit_order(\n",
    "    symbol=\"TSLA\", \n",
    "    qty=number_of_shares, \n",
    "    side=orderSide, \n",
    "    time_in_force=\"gtc\", \n",
    "    type=\"limit\", \n",
    "    limit_price=limit_amount\n",
    ")"
   ]
  }
 ],
 "metadata": {
  "kernelspec": {
   "display_name": "Python 3 (ipykernel)",
   "language": "python",
   "name": "python3"
  },
  "language_info": {
   "codemirror_mode": {
    "name": "ipython",
    "version": 3
   },
   "file_extension": ".py",
   "mimetype": "text/x-python",
   "name": "python",
   "nbconvert_exporter": "python",
   "pygments_lexer": "ipython3",
   "version": "3.7.13"
  }
 },
 "nbformat": 4,
 "nbformat_minor": 5
}
