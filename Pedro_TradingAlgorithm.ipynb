{
 "cells": [
  {
   "cell_type": "markdown",
   "id": "90226339-2635-4900-8b2d-4493ddfa8b32",
   "metadata": {},
   "source": [
    "# Pedro - Short Queeze Predictor\n",
    "---"
   ]
  },
  {
   "cell_type": "code",
   "execution_count": 9,
   "id": "c9b9b99c-97af-487e-9ec8-e3f9dabc4c37",
   "metadata": {},
   "outputs": [],
   "source": [
    "# Initial imports\n",
    "import os\n",
    "import pandas as pd\n",
    "from pathlib import Path\n",
    "from dotenv import load_dotenv\n",
    "import alpaca_trade_api as tradeapi"
   ]
  },
  {
   "cell_type": "code",
   "execution_count": 10,
   "id": "a092e9bf-9595-425e-9f9b-5f80e5139295",
   "metadata": {},
   "outputs": [],
   "source": [
    "def create_alpaca_api():\n",
    "    # Load .env environment variables\n",
    "    load_dotenv(dotenv_path=\"Alpaca.env\")\n",
    "\n",
    "    # Set Alpaca API key and secret\n",
    "    alpaca_api_key = os.getenv(\"ALPACA_API_KEY\")\n",
    "    alpaca_secret_key = os.getenv(\"ALPACA_SECRET_KEY\")\n",
    "    alpaca_api_base_url = \"https://paper-api.alpaca.markets\"\n",
    "\n",
    "    # Create the Alpaca API object\n",
    "    api = tradeapi.REST(\n",
    "        alpaca_api_key,\n",
    "        alpaca_secret_key,\n",
    "        alpaca_api_base_url,\n",
    "        api_version=\"v2\"\n",
    "    )\n",
    "\n",
    "    return api"
   ]
  },
  {
   "cell_type": "code",
   "execution_count": 11,
   "id": "71ed96ec-5f44-4fde-88df-0754e876963d",
   "metadata": {},
   "outputs": [],
   "source": [
    "api = create_alpaca_api()"
   ]
  },
  {
   "cell_type": "code",
   "execution_count": 13,
   "id": "e39b224d-fd87-4db2-9291-4376218e985a",
   "metadata": {},
   "outputs": [
    {
     "name": "stdout",
     "output_type": "stream",
     "text": [
      "$200000 is available as buying power.\n"
     ]
    }
   ],
   "source": [
    "# Get account information\n",
    "account = api.get_account()\n",
    "\n",
    "# Check if our account is restricted from trading.\n",
    "if account.trading_blocked:\n",
    "    print('Account is currently restricted from trading.')\n",
    "\n",
    "# Print our current balance.\n",
    "print('${} is available as buying power.'.format(account.buying_power))\n"
   ]
  },
  {
   "cell_type": "code",
   "execution_count": null,
   "id": "cbce639f-6b6e-4173-b4a6-9e58939e1af3",
   "metadata": {},
   "outputs": [],
   "source": [
    "SHORT_FLOAT_THRESHOLD = 17\n",
    "MARKET_CAP_THRESHOLD = 300000000\n",
    "INSIDER_AMOUNT_THRESHOLD = 500000"
   ]
  },
  {
   "cell_type": "code",
   "execution_count": 15,
   "id": "b7282e9e-7c18-442a-9903-6d0d2aab82a7",
   "metadata": {},
   "outputs": [],
   "source": [
    "# Generate the trading signal 0 or 1,\n",
    "# where 1 is when short-window (SMA50) is greater than the long (SMA 100)\n",
    "# and 0 otherwise\n",
    "signals_df['Signal'][short_window:] = np.where(\n",
    "    signals_df['SMA50'][short_window:] > signals_df['SMA100'][short_window:], 1.0, 0.0\n",
    ")"
   ]
  },
  {
   "cell_type": "code",
   "execution_count": null,
   "id": "76b1c20d-6668-4e53-9461-3f89d0660824",
   "metadata": {},
   "outputs": [],
   "source": []
  }
 ],
 "metadata": {
  "kernelspec": {
   "display_name": "Python 3 (ipykernel)",
   "language": "python",
   "name": "python3"
  },
  "language_info": {
   "codemirror_mode": {
    "name": "ipython",
    "version": 3
   },
   "file_extension": ".py",
   "mimetype": "text/x-python",
   "name": "python",
   "nbconvert_exporter": "python",
   "pygments_lexer": "ipython3",
   "version": "3.7.13"
  }
 },
 "nbformat": 4,
 "nbformat_minor": 5
}
