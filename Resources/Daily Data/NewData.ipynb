{
 "cells": [
  {
   "cell_type": "code",
   "execution_count": 1,
   "id": "d6a4e3d9-3e92-49b0-8afc-f5b69519d071",
   "metadata": {},
   "outputs": [],
   "source": [
    "import os\n",
    "import pandas as pd"
   ]
  },
  {
   "cell_type": "code",
   "execution_count": 5,
   "id": "bd8da54e-afb6-4dba-9da9-70d8f5f51e6e",
   "metadata": {},
   "outputs": [],
   "source": [
    "def read_xlsx_files():\n",
    "    current_directory = os.getcwd()  # Get the current working directory\n",
    "    all_data = pd.DataFrame()  # Empty DataFrame to store the concatenated data\n",
    "\n",
    "    # Iterate over all files in the current directory\n",
    "    for filename in os.listdir(current_directory):\n",
    "        if filename.endswith(\".xlsx\"):  # Check if file is in xlsx format\n",
    "            file_path = os.path.join(current_directory, filename)\n",
    "            df = pd.read_excel(file_path)  # Read the Excel file into a DataFrame\n",
    "            all_data = pd.concat([all_data, df], ignore_index=True)  # Concatenate the data\n",
    "\n",
    "    return all_data"
   ]
  },
  {
   "cell_type": "code",
   "execution_count": 6,
   "id": "271db5b9-c6fc-4996-b7d7-fafae7bc69e5",
   "metadata": {},
   "outputs": [],
   "source": [
    "# Call the function to read and concatenate the files\n",
    "ShortFloat = read_xlsx_files()"
   ]
  },
  {
   "cell_type": "code",
   "execution_count": 7,
   "id": "7cb551e9-066a-482b-b505-463eead6aeeb",
   "metadata": {},
   "outputs": [
    {
     "data": {
      "text/html": [
       "<div>\n",
       "<style scoped>\n",
       "    .dataframe tbody tr th:only-of-type {\n",
       "        vertical-align: middle;\n",
       "    }\n",
       "\n",
       "    .dataframe tbody tr th {\n",
       "        vertical-align: top;\n",
       "    }\n",
       "\n",
       "    .dataframe thead th {\n",
       "        text-align: right;\n",
       "    }\n",
       "</style>\n",
       "<table border=\"1\" class=\"dataframe\">\n",
       "  <thead>\n",
       "    <tr style=\"text-align: right;\">\n",
       "      <th></th>\n",
       "      <th>Ticker</th>\n",
       "      <th>Relationship</th>\n",
       "      <th>Value ($)</th>\n",
       "      <th>Date</th>\n",
       "    </tr>\n",
       "  </thead>\n",
       "  <tbody>\n",
       "    <tr>\n",
       "      <th>0</th>\n",
       "      <td>EVLO</td>\n",
       "      <td>10% Owner</td>\n",
       "      <td>12499999</td>\n",
       "      <td>2023-07-13 17:15:00</td>\n",
       "    </tr>\n",
       "    <tr>\n",
       "      <th>1</th>\n",
       "      <td>UPBD</td>\n",
       "      <td>Director</td>\n",
       "      <td>26994</td>\n",
       "      <td>2023-07-13 16:58:00</td>\n",
       "    </tr>\n",
       "    <tr>\n",
       "      <th>2</th>\n",
       "      <td>BCOV</td>\n",
       "      <td>10% Owner</td>\n",
       "      <td>90225</td>\n",
       "      <td>2023-07-13 16:42:00</td>\n",
       "    </tr>\n",
       "    <tr>\n",
       "      <th>3</th>\n",
       "      <td>BCOV</td>\n",
       "      <td>10% Owner</td>\n",
       "      <td>40066</td>\n",
       "      <td>2023-07-13 16:42:00</td>\n",
       "    </tr>\n",
       "    <tr>\n",
       "      <th>4</th>\n",
       "      <td>BCOV</td>\n",
       "      <td>10% Owner</td>\n",
       "      <td>59936</td>\n",
       "      <td>2023-07-13 16:42:00</td>\n",
       "    </tr>\n",
       "  </tbody>\n",
       "</table>\n",
       "</div>"
      ],
      "text/plain": [
       "  Ticker Relationship  Value ($)                Date\n",
       "0   EVLO    10% Owner   12499999 2023-07-13 17:15:00\n",
       "1   UPBD     Director      26994 2023-07-13 16:58:00\n",
       "2   BCOV    10% Owner      90225 2023-07-13 16:42:00\n",
       "3   BCOV    10% Owner      40066 2023-07-13 16:42:00\n",
       "4   BCOV    10% Owner      59936 2023-07-13 16:42:00"
      ]
     },
     "execution_count": 7,
     "metadata": {},
     "output_type": "execute_result"
    }
   ],
   "source": [
    "# Print the resulting DataFrame\n",
    "ShortFloat.head()"
   ]
  },
  {
   "cell_type": "code",
   "execution_count": 9,
   "id": "96a777b2-5ebc-4cce-8f3e-63b49d8a8146",
   "metadata": {},
   "outputs": [],
   "source": [
    "def read_csv_files():\n",
    "    current_directory = os.getcwd()  # Get the current working directory\n",
    "    all_data = pd.DataFrame()  # Empty DataFrame to store the concatenated data\n",
    "\n",
    "    # Iterate over all files in the current directory\n",
    "    for filename in os.listdir(current_directory):\n",
    "        if filename.endswith(\".csv\"):  # Check if file is in csv format\n",
    "            file_path = os.path.join(current_directory, filename)\n",
    "            df = pd.read_csv(file_path)  # Read the CSV file into a DataFrame\n",
    "            all_data = pd.concat([all_data, df], ignore_index=True)  # Concatenate the data\n",
    "\n",
    "    return all_data"
   ]
  },
  {
   "cell_type": "code",
   "execution_count": 10,
   "id": "05e12d53-f308-41ed-ba79-dd4182eb7335",
   "metadata": {},
   "outputs": [],
   "source": [
    "# Call the function to read and concatenate the files\n",
    "InsiderTrading = read_csv_files()"
   ]
  },
  {
   "cell_type": "code",
   "execution_count": 11,
   "id": "a7fcdef4-191f-41ad-be23-c27e5f06ac71",
   "metadata": {},
   "outputs": [
    {
     "data": {
      "text/html": [
       "<div>\n",
       "<style scoped>\n",
       "    .dataframe tbody tr th:only-of-type {\n",
       "        vertical-align: middle;\n",
       "    }\n",
       "\n",
       "    .dataframe tbody tr th {\n",
       "        vertical-align: top;\n",
       "    }\n",
       "\n",
       "    .dataframe thead th {\n",
       "        text-align: right;\n",
       "    }\n",
       "</style>\n",
       "<table border=\"1\" class=\"dataframe\">\n",
       "  <thead>\n",
       "    <tr style=\"text-align: right;\">\n",
       "      <th></th>\n",
       "      <th>Ticker</th>\n",
       "      <th>Sector</th>\n",
       "      <th>Market Cap</th>\n",
       "      <th>P/E</th>\n",
       "      <th>Float Short</th>\n",
       "      <th>50-Day Simple Moving Average</th>\n",
       "      <th>Price</th>\n",
       "    </tr>\n",
       "  </thead>\n",
       "  <tbody>\n",
       "    <tr>\n",
       "      <th>0</th>\n",
       "      <td>ABR</td>\n",
       "      <td>Real Estate</td>\n",
       "      <td>2847.03</td>\n",
       "      <td>10.70</td>\n",
       "      <td>25.44%</td>\n",
       "      <td>18.91%</td>\n",
       "      <td>15.90</td>\n",
       "    </tr>\n",
       "    <tr>\n",
       "      <th>1</th>\n",
       "      <td>ACDC</td>\n",
       "      <td>Energy</td>\n",
       "      <td>1804.24</td>\n",
       "      <td>5.29</td>\n",
       "      <td>19.70%</td>\n",
       "      <td>7.75%</td>\n",
       "      <td>12.58</td>\n",
       "    </tr>\n",
       "    <tr>\n",
       "      <th>2</th>\n",
       "      <td>ACLX</td>\n",
       "      <td>Healthcare</td>\n",
       "      <td>1603.74</td>\n",
       "      <td>NaN</td>\n",
       "      <td>19.11%</td>\n",
       "      <td>-12.55%</td>\n",
       "      <td>34.12</td>\n",
       "    </tr>\n",
       "    <tr>\n",
       "      <th>3</th>\n",
       "      <td>AEHR</td>\n",
       "      <td>Technology</td>\n",
       "      <td>1103.76</td>\n",
       "      <td>81.08</td>\n",
       "      <td>19.08%</td>\n",
       "      <td>16.15%</td>\n",
       "      <td>41.43</td>\n",
       "    </tr>\n",
       "    <tr>\n",
       "      <th>4</th>\n",
       "      <td>AFRM</td>\n",
       "      <td>Technology</td>\n",
       "      <td>4887.06</td>\n",
       "      <td>NaN</td>\n",
       "      <td>16.77%</td>\n",
       "      <td>20.77%</td>\n",
       "      <td>17.45</td>\n",
       "    </tr>\n",
       "  </tbody>\n",
       "</table>\n",
       "</div>"
      ],
      "text/plain": [
       "  Ticker       Sector  Market Cap    P/E Float Short  \\\n",
       "0    ABR  Real Estate     2847.03  10.70      25.44%   \n",
       "1   ACDC       Energy     1804.24   5.29      19.70%   \n",
       "2   ACLX   Healthcare     1603.74    NaN      19.11%   \n",
       "3   AEHR   Technology     1103.76  81.08      19.08%   \n",
       "4   AFRM   Technology     4887.06    NaN      16.77%   \n",
       "\n",
       "  50-Day Simple Moving Average  Price  \n",
       "0                       18.91%  15.90  \n",
       "1                        7.75%  12.58  \n",
       "2                      -12.55%  34.12  \n",
       "3                       16.15%  41.43  \n",
       "4                       20.77%  17.45  "
      ]
     },
     "execution_count": 11,
     "metadata": {},
     "output_type": "execute_result"
    }
   ],
   "source": [
    "InsiderTrading.head()"
   ]
  },
  {
   "cell_type": "code",
   "execution_count": null,
   "id": "999c611b-bbc5-4384-b8aa-24de624336ee",
   "metadata": {},
   "outputs": [],
   "source": []
  }
 ],
 "metadata": {
  "kernelspec": {
   "display_name": "Python 3 (ipykernel)",
   "language": "python",
   "name": "python3"
  },
  "language_info": {
   "codemirror_mode": {
    "name": "ipython",
    "version": 3
   },
   "file_extension": ".py",
   "mimetype": "text/x-python",
   "name": "python",
   "nbconvert_exporter": "python",
   "pygments_lexer": "ipython3",
   "version": "3.7.13"
  }
 },
 "nbformat": 4,
 "nbformat_minor": 5
}
